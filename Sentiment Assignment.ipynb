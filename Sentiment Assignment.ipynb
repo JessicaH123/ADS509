{
 "cells": [
  {
   "cell_type": "markdown",
   "id": "7f79baf9",
   "metadata": {},
   "source": [
    "# ADS 509 Sentiment Assignment\n",
    "\n",
    "This notebook holds the Sentiment Assignment for Module 6 in ADS 509, Applied Text Mining. Work through this notebook, writing code and answering questions where required. \n",
    "\n",
    "In a previous assignment you put together Twitter data and lyrics data on two artists. In this assignment we apply sentiment analysis to those data sets. If, for some reason, you did not complete that previous assignment, data to use for this assignment can be found in the assignment materials section of Blackboard. \n"
   ]
  },
  {
   "cell_type": "markdown",
   "id": "aae8e2e1",
   "metadata": {},
   "source": [
    "## General Assignment Instructions\n",
    "\n",
    "These instructions are included in every assignment, to remind you of the coding standards for the class. Feel free to delete this cell after reading it. \n",
    "\n",
    "One sign of mature code is conforming to a style guide. We recommend the [Google Python Style Guide](https://google.github.io/styleguide/pyguide.html). If you use a different style guide, please include a cell with a link. \n",
    "\n",
    "Your code should be relatively easy-to-read, sensibly commented, and clean. Writing code is a messy process, so please be sure to edit your final submission. Remove any cells that are not needed or parts of cells that contain unnecessary code. Remove inessential `import` statements and make sure that all such statements are moved into the designated cell. \n",
    "\n",
    "Make use of non-code cells for written commentary. These cells should be grammatical and clearly written. In some of these cells you will have questions to answer. The questions will be marked by a \"Q:\" and will have a corresponding \"A:\" spot for you. *Make sure to answer every question marked with a `Q:` for full credit.* \n"
   ]
  },
  {
   "cell_type": "code",
   "execution_count": 1,
   "id": "e2d096b7",
   "metadata": {},
   "outputs": [
    {
     "name": "stderr",
     "output_type": "stream",
     "text": [
      "C:\\Users\\jessh\\anaconda3\\lib\\site-packages\\pandas\\core\\computation\\expressions.py:21: UserWarning: Pandas requires version '2.8.4' or newer of 'numexpr' (version '2.8.1' currently installed).\n",
      "  from pandas.core.computation.check import NUMEXPR_INSTALLED\n",
      "C:\\Users\\jessh\\anaconda3\\lib\\site-packages\\pandas\\core\\arrays\\masked.py:60: UserWarning: Pandas requires version '1.3.6' or newer of 'bottleneck' (version '1.3.4' currently installed).\n",
      "  from pandas.core import (\n"
     ]
    }
   ],
   "source": [
    "import os\n",
    "import re\n",
    "import emoji\n",
    "import pandas as pd\n",
    "import numpy as np\n",
    "\n",
    "from collections import Counter, defaultdict\n",
    "from string import punctuation\n",
    "\n",
    "from nltk.corpus import stopwords\n",
    "from nltk.corpus import opinion_lexicon\n",
    "from nltk.tokenize import word_tokenize\n",
    "\n",
    "import matplotlib.pyplot as plt\n",
    "import seaborn as sns\n",
    "\n",
    "sw = stopwords.words(\"english\")"
   ]
  },
  {
   "cell_type": "code",
   "execution_count": 2,
   "id": "923b5a86",
   "metadata": {},
   "outputs": [],
   "source": [
    "# change `data_location` to the location of the folder on your machine.\n",
    "data_location = \"/users/jessh/Documents/ADS509/\"\n",
    "\n",
    "# These subfolders should still work if you correctly stored the \n",
    "# data from the Module 1 assignment\n",
    "twitter_folder = \"twitter/\"\n",
    "lyrics_folder = \"lyrics/\"\n",
    "\n",
    "positive_words_file = \"positive-words.txt\"\n",
    "negative_words_file = \"negative-words.txt\"\n",
    "tidy_text_file = \"tidytext_sentiments.txt\""
   ]
  },
  {
   "cell_type": "markdown",
   "id": "9d3bf93e",
   "metadata": {},
   "source": [
    "## Data Input\n",
    "\n",
    "Now read in each of the corpora. For the lyrics data, it may be convenient to store the entire contents of the file to make it easier to inspect the titles individually, as you'll do in the last part of the assignment. In the solution, I stored the lyrics data in a dictionary with two dimensions of keys: artist and song. The value was the file contents. A Pandas data frame would work equally well. \n",
    "\n",
    "For the Twitter data, we only need the description field for this assignment. Feel free all the descriptions read it into a data structure. In the solution, I stored the descriptions as a dictionary of lists, with the key being the artist. \n",
    "\n",
    "\n"
   ]
  },
  {
   "cell_type": "markdown",
   "id": "99b3fb74",
   "metadata": {},
   "source": [
    "### Reading in Lyrics Data"
   ]
  },
  {
   "cell_type": "code",
   "execution_count": 3,
   "id": "37d70801",
   "metadata": {},
   "outputs": [
    {
     "data": {
      "text/html": [
       "<div>\n",
       "<style scoped>\n",
       "    .dataframe tbody tr th:only-of-type {\n",
       "        vertical-align: middle;\n",
       "    }\n",
       "\n",
       "    .dataframe tbody tr th {\n",
       "        vertical-align: top;\n",
       "    }\n",
       "\n",
       "    .dataframe thead th {\n",
       "        text-align: right;\n",
       "    }\n",
       "</style>\n",
       "<table border=\"1\" class=\"dataframe\">\n",
       "  <thead>\n",
       "    <tr style=\"text-align: right;\">\n",
       "      <th></th>\n",
       "      <th>Filename</th>\n",
       "      <th>File Content</th>\n",
       "    </tr>\n",
       "  </thead>\n",
       "  <tbody>\n",
       "    <tr>\n",
       "      <th>0</th>\n",
       "      <td>dualipa_badtogether.txt</td>\n",
       "      <td>\"Bad Together\" lyrics\\n\\nDua Lipa Lyrics\\n\\n\\n...</td>\n",
       "    </tr>\n",
       "    <tr>\n",
       "      <th>1</th>\n",
       "      <td>dualipa_begging.txt</td>\n",
       "      <td>\"Begging\" lyrics\\n\\nDua Lipa Lyrics\\n\\n\\n\\n\\n\"...</td>\n",
       "    </tr>\n",
       "    <tr>\n",
       "      <th>2</th>\n",
       "      <td>dualipa_betheone.txt</td>\n",
       "      <td>\"Be The One\" lyrics\\n\\nDua Lipa Lyrics\\n\\n\\n\\n...</td>\n",
       "    </tr>\n",
       "    <tr>\n",
       "      <th>3</th>\n",
       "      <td>dualipa_blowyourmindmwah.txt</td>\n",
       "      <td>\"Blow Your Mind (Mwah)\" lyrics\\n\\nDua Lipa Lyr...</td>\n",
       "    </tr>\n",
       "    <tr>\n",
       "      <th>4</th>\n",
       "      <td>dualipa_dreams.txt</td>\n",
       "      <td>\"Dreams\" lyrics\\n\\nDua Lipa Lyrics\\n\\n\\n\\n\\n\"D...</td>\n",
       "    </tr>\n",
       "  </tbody>\n",
       "</table>\n",
       "</div>"
      ],
      "text/plain": [
       "                       Filename  \\\n",
       "0       dualipa_badtogether.txt   \n",
       "1           dualipa_begging.txt   \n",
       "2          dualipa_betheone.txt   \n",
       "3  dualipa_blowyourmindmwah.txt   \n",
       "4            dualipa_dreams.txt   \n",
       "\n",
       "                                        File Content  \n",
       "0  \"Bad Together\" lyrics\\n\\nDua Lipa Lyrics\\n\\n\\n...  \n",
       "1  \"Begging\" lyrics\\n\\nDua Lipa Lyrics\\n\\n\\n\\n\\n\"...  \n",
       "2  \"Be The One\" lyrics\\n\\nDua Lipa Lyrics\\n\\n\\n\\n...  \n",
       "3  \"Blow Your Mind (Mwah)\" lyrics\\n\\nDua Lipa Lyr...  \n",
       "4  \"Dreams\" lyrics\\n\\nDua Lipa Lyrics\\n\\n\\n\\n\\n\"D...  "
      ]
     },
     "execution_count": 3,
     "metadata": {},
     "output_type": "execute_result"
    }
   ],
   "source": [
    "# Read in the lyrics data\n",
    "# getting the path to the lyrics folder\n",
    "folder_path = data_location + lyrics_folder\n",
    "\n",
    "# List to store all file paths\n",
    "all_file_paths = []\n",
    "\n",
    "# go through all directories and subdirectories\n",
    "for root, dirs, files in os.walk(folder_path):\n",
    "    for file in files:\n",
    "        file_path = os.path.join(root, file)\n",
    "        all_file_paths.append(file_path)\n",
    "        \n",
    "# read the contents of each file and store them along with the filename using the folder_paths variable\n",
    "file_data = []\n",
    "for file_path in all_file_paths:\n",
    "    with open(file_path, 'r') as file:\n",
    "        content = file.read()\n",
    "        filename = os.path.relpath(file_path, folder_path) # Get the relative path as filename\n",
    "        filename = os.path.basename(filename) # only getting the filename of whatever we pulled\n",
    "        file_data.append((filename, content))\n",
    "\n",
    "# create a dataframe with columns 'Filename' and 'File Content'\n",
    "lyrics_df = pd.DataFrame(file_data, columns=['Filename', 'File Content'])\n",
    "\n",
    "lyrics_df.head()"
   ]
  },
  {
   "cell_type": "markdown",
   "id": "82775fdd",
   "metadata": {},
   "source": [
    "### Reading in Twitter data"
   ]
  },
  {
   "cell_type": "code",
   "execution_count": 4,
   "id": "debcac5a",
   "metadata": {},
   "outputs": [
    {
     "data": {
      "text/html": [
       "<div>\n",
       "<style scoped>\n",
       "    .dataframe tbody tr th:only-of-type {\n",
       "        vertical-align: middle;\n",
       "    }\n",
       "\n",
       "    .dataframe tbody tr th {\n",
       "        vertical-align: top;\n",
       "    }\n",
       "\n",
       "    .dataframe thead th {\n",
       "        text-align: right;\n",
       "    }\n",
       "</style>\n",
       "<table border=\"1\" class=\"dataframe\">\n",
       "  <thead>\n",
       "    <tr style=\"text-align: right;\">\n",
       "      <th></th>\n",
       "      <th>screen_name</th>\n",
       "      <th>name</th>\n",
       "      <th>id</th>\n",
       "      <th>location</th>\n",
       "      <th>followers_count</th>\n",
       "      <th>friends_count</th>\n",
       "      <th>description</th>\n",
       "    </tr>\n",
       "  </thead>\n",
       "  <tbody>\n",
       "    <tr>\n",
       "      <th>0</th>\n",
       "      <td>AngelxoArts</td>\n",
       "      <td>Angelxo</td>\n",
       "      <td>1424055675030806529</td>\n",
       "      <td>Zacatlan, Puebla, Mexico</td>\n",
       "      <td>29</td>\n",
       "      <td>535</td>\n",
       "      <td>I love chill •Facebook / Instagram / SoundClou...</td>\n",
       "    </tr>\n",
       "    <tr>\n",
       "      <th>1</th>\n",
       "      <td>songsfornikola</td>\n",
       "      <td>johnny</td>\n",
       "      <td>1502717352575651840</td>\n",
       "      <td>NaN</td>\n",
       "      <td>6</td>\n",
       "      <td>318</td>\n",
       "      <td>books, movies, music, nature &amp; TV shows. OG Sw...</td>\n",
       "    </tr>\n",
       "    <tr>\n",
       "      <th>2</th>\n",
       "      <td>thibaud_lola</td>\n",
       "      <td>Thibaud Lola</td>\n",
       "      <td>1502407708246478852</td>\n",
       "      <td>NaN</td>\n",
       "      <td>3</td>\n",
       "      <td>69</td>\n",
       "      <td>(Am)auteur en herbe 🌱 - juriste en paille 🤡 - ...</td>\n",
       "    </tr>\n",
       "    <tr>\n",
       "      <th>3</th>\n",
       "      <td>KyleSew2112</td>\n",
       "      <td>Kyle S 🌹🇬🇧🇺🇦</td>\n",
       "      <td>3423966821</td>\n",
       "      <td>South East London</td>\n",
       "      <td>1258</td>\n",
       "      <td>3444</td>\n",
       "      <td>This Twitter profile is full of sarcasm and ra...</td>\n",
       "    </tr>\n",
       "    <tr>\n",
       "      <th>4</th>\n",
       "      <td>MusiFlo</td>\n",
       "      <td>MusiFlo</td>\n",
       "      <td>3324069364</td>\n",
       "      <td>Canada</td>\n",
       "      <td>470</td>\n",
       "      <td>1706</td>\n",
       "      <td>Flora Youssef - Blogger &amp; Founder Posting revi...</td>\n",
       "    </tr>\n",
       "  </tbody>\n",
       "</table>\n",
       "</div>"
      ],
      "text/plain": [
       "      screen_name          name                   id  \\\n",
       "0     AngelxoArts       Angelxo  1424055675030806529   \n",
       "1  songsfornikola        johnny  1502717352575651840   \n",
       "2    thibaud_lola  Thibaud Lola  1502407708246478852   \n",
       "3     KyleSew2112  Kyle S 🌹🇬🇧🇺🇦           3423966821   \n",
       "4         MusiFlo       MusiFlo           3324069364   \n",
       "\n",
       "                   location  followers_count  friends_count  \\\n",
       "0  Zacatlan, Puebla, Mexico               29            535   \n",
       "1                       NaN                6            318   \n",
       "2                       NaN                3             69   \n",
       "3         South East London             1258           3444   \n",
       "4                    Canada              470           1706   \n",
       "\n",
       "                                         description  \n",
       "0  I love chill •Facebook / Instagram / SoundClou...  \n",
       "1  books, movies, music, nature & TV shows. OG Sw...  \n",
       "2  (Am)auteur en herbe 🌱 - juriste en paille 🤡 - ...  \n",
       "3  This Twitter profile is full of sarcasm and ra...  \n",
       "4  Flora Youssef - Blogger & Founder Posting revi...  "
      ]
     },
     "execution_count": 4,
     "metadata": {},
     "output_type": "execute_result"
    }
   ],
   "source": [
    "# Read in the twitter data\n",
    "# change working directory\n",
    "os.chdir(data_location+twitter_folder)\n",
    "\n",
    "# define filepath for robyn\n",
    "robyn_filepath = \"robynkonichiwa_followers_data.txt\"\n",
    "\n",
    "# Read in the text file as a DataFrame\n",
    "robyn_df = pd.read_csv(robyn_filepath, delimiter='\\t') \n",
    "robyn_df.head(5)"
   ]
  },
  {
   "cell_type": "code",
   "execution_count": 5,
   "id": "e19549ad",
   "metadata": {},
   "outputs": [
    {
     "data": {
      "text/html": [
       "<div>\n",
       "<style scoped>\n",
       "    .dataframe tbody tr th:only-of-type {\n",
       "        vertical-align: middle;\n",
       "    }\n",
       "\n",
       "    .dataframe tbody tr th {\n",
       "        vertical-align: top;\n",
       "    }\n",
       "\n",
       "    .dataframe thead th {\n",
       "        text-align: right;\n",
       "    }\n",
       "</style>\n",
       "<table border=\"1\" class=\"dataframe\">\n",
       "  <thead>\n",
       "    <tr style=\"text-align: right;\">\n",
       "      <th></th>\n",
       "      <th>screen_name</th>\n",
       "      <th>name</th>\n",
       "      <th>id</th>\n",
       "      <th>location</th>\n",
       "      <th>followers_count</th>\n",
       "      <th>friends_count</th>\n",
       "      <th>description</th>\n",
       "    </tr>\n",
       "  </thead>\n",
       "  <tbody>\n",
       "    <tr>\n",
       "      <th>0</th>\n",
       "      <td>horrormomy</td>\n",
       "      <td>Jeny</td>\n",
       "      <td>742153090850164742</td>\n",
       "      <td>Earth</td>\n",
       "      <td>81</td>\n",
       "      <td>514</td>\n",
       "      <td>𝙿𝚛𝚘𝚞𝚍 𝚜𝚞𝚙𝚙𝚘𝚛𝚝𝚎𝚛 𝚘𝚏 𝚖𝚎𝚜𝚜𝚢 𝚋𝚞𝚗𝚜 &amp; 𝚕𝚎𝚐𝚐𝚒𝚗𝚐𝚜</td>\n",
       "    </tr>\n",
       "    <tr>\n",
       "      <th>1</th>\n",
       "      <td>anju79990584</td>\n",
       "      <td>anju</td>\n",
       "      <td>1496463006451974150</td>\n",
       "      <td></td>\n",
       "      <td>13</td>\n",
       "      <td>140</td>\n",
       "      <td>163㎝／愛かっぷ💜26歳🍒 工〇好きな女の子💓 フォローしてくれたらDMします🧡</td>\n",
       "    </tr>\n",
       "    <tr>\n",
       "      <th>2</th>\n",
       "      <td>gallionjenna</td>\n",
       "      <td>J</td>\n",
       "      <td>3366479914</td>\n",
       "      <td></td>\n",
       "      <td>752</td>\n",
       "      <td>556</td>\n",
       "      <td>csu</td>\n",
       "    </tr>\n",
       "    <tr>\n",
       "      <th>3</th>\n",
       "      <td>bcscomm</td>\n",
       "      <td>bcscomm</td>\n",
       "      <td>83915043</td>\n",
       "      <td>Washington, DC</td>\n",
       "      <td>888</td>\n",
       "      <td>2891</td>\n",
       "      <td>Writer @Washinformer @SpelmanCollege alumna #D...</td>\n",
       "    </tr>\n",
       "    <tr>\n",
       "      <th>4</th>\n",
       "      <td>Rodhandyjj</td>\n",
       "      <td>Art Vandalay 🇺🇦🇺🇦🇺🇦</td>\n",
       "      <td>1386454132022824962</td>\n",
       "      <td>Maine, USA</td>\n",
       "      <td>104</td>\n",
       "      <td>159</td>\n",
       "      <td>I’m unemployed and live with my parents. MOOPS!</td>\n",
       "    </tr>\n",
       "  </tbody>\n",
       "</table>\n",
       "</div>"
      ],
      "text/plain": [
       "    screen_name                 name                   id        location  \\\n",
       "0    horrormomy                 Jeny   742153090850164742           Earth   \n",
       "1  anju79990584                 anju  1496463006451974150                   \n",
       "2  gallionjenna                    J           3366479914                   \n",
       "3       bcscomm              bcscomm             83915043  Washington, DC   \n",
       "4    Rodhandyjj  Art Vandalay 🇺🇦🇺🇦🇺🇦  1386454132022824962      Maine, USA   \n",
       "\n",
       "  followers_count friends_count  \\\n",
       "0              81           514   \n",
       "1              13           140   \n",
       "2             752           556   \n",
       "3             888          2891   \n",
       "4             104           159   \n",
       "\n",
       "                                         description  \n",
       "0           𝙿𝚛𝚘𝚞𝚍 𝚜𝚞𝚙𝚙𝚘𝚛𝚝𝚎𝚛 𝚘𝚏 𝚖𝚎𝚜𝚜𝚢 𝚋𝚞𝚗𝚜 & 𝚕𝚎𝚐𝚐𝚒𝚗𝚐𝚜  \n",
       "1          163㎝／愛かっぷ💜26歳🍒 工〇好きな女の子💓 フォローしてくれたらDMします🧡  \n",
       "2                                                csu  \n",
       "3  Writer @Washinformer @SpelmanCollege alumna #D...  \n",
       "4    I’m unemployed and live with my parents. MOOPS!  "
      ]
     },
     "execution_count": 5,
     "metadata": {},
     "output_type": "execute_result"
    }
   ],
   "source": [
    "# define filepath for cher\n",
    "cher_filepath = \"cher_followers_data.txt\"\n",
    "\n",
    "# define column names\n",
    "columns = [\"screen_name\", \"name\", \"id\", \"location\", \"followers_count\", \"friends_count\", \"description\"]\n",
    "\n",
    "# Initialize an empty list to store data\n",
    "data = []\n",
    "\n",
    "# Open the text file and read line by line\n",
    "with open(cher_filepath, 'r', encoding = 'utf-8') as file:\n",
    "    for line in file:\n",
    "        # Split the line by tab delimiter\n",
    "        fields = line.strip().split('\\t')\n",
    "        # If the line has expected number of fields\n",
    "        if len(fields) == len(columns):\n",
    "            data.append(fields)\n",
    "\n",
    "# the list will be changed to a dataframe\n",
    "cher_df = pd.DataFrame(data, columns=columns)\n",
    "\n",
    "# dropping the first row\n",
    "cher_df = cher_df.iloc[1:]\n",
    "cher_df.reset_index(drop=True, inplace=True)\n",
    "\n",
    "# Display the DataFrame\n",
    "cher_df.head(5)"
   ]
  },
  {
   "cell_type": "code",
   "execution_count": 6,
   "id": "af9e7a4b",
   "metadata": {},
   "outputs": [],
   "source": [
    "# Read in the positive and negative words and the\n",
    "# tidytext sentiment. Store these so that the positive\n",
    "# words are associated with a score of +1 and negative words\n",
    "# are associated with a score of -1. You can use a dataframe or a \n",
    "# dictionary for this.\n",
    "\n",
    "# change directory\n",
    "os.chdir(data_location)\n",
    "\n",
    "# set up filepaths for the data\n",
    "pos_filepath = \"positive-words.txt\"\n",
    "neg_filepath = \"negative-words.txt\"\n",
    "tidy_filepath = \"tidytext_sentiments.txt\"\n",
    "\n",
    "\n",
    "# create function to read in the 3 files we need\n",
    "def extract_words(file_path):\n",
    "    # open and read the file\n",
    "    with open(file_path, 'r') as file:\n",
    "        lines = file.readlines()\n",
    "\n",
    "    # filter out lines that start with a semicolon and non-empty lines\n",
    "    words = [line.strip() for line in lines if not line.strip().startswith(';') and line.strip()]\n",
    "    \n",
    "    return words\n",
    "\n",
    "# get words for each file\n",
    "pos_words = extract_words(pos_filepath)\n",
    "neg_words = extract_words(neg_filepath)\n",
    "\n",
    "# create a DataFrame from the list of words\n",
    "positive_df = pd.DataFrame(pos_words, columns=['word'])\n",
    "positive_df['Score'] = 1\n",
    "negative_df = pd.DataFrame(neg_words, columns = ['word'])\n",
    "negative_df['Score'] = -1\n",
    "\n",
    "# read in the text file as a DataFrame\n",
    "tidy_df = pd.read_csv(tidy_filepath, delimiter='\\t') \n",
    "\n",
    "# add a new column 'Score' with +1 for 'positive' and -1 for 'negative'\n",
    "tidy_df['Score'] = tidy_df['sentiment'].apply(lambda x: 1 if x == 'positive' else -1)\n",
    "tidy_df = tidy_df.drop(['lexicon', 'sentiment'], axis = 1)"
   ]
  },
  {
   "cell_type": "code",
   "execution_count": 7,
   "id": "7cd40ce4",
   "metadata": {},
   "outputs": [
    {
     "name": "stdout",
     "output_type": "stream",
     "text": [
      "\n",
      "Combined DataFrame:\n",
      "            word  Score\n",
      "0             a+      1\n",
      "1         abound      1\n",
      "2        abounds      1\n",
      "3      abundance      1\n",
      "4       abundant      1\n",
      "...          ...    ...\n",
      "21917        win      1\n",
      "21918     winner      1\n",
      "21919    winners      1\n",
      "21920    winning      1\n",
      "21921     worthy      1\n",
      "\n",
      "[21922 rows x 2 columns]\n"
     ]
    }
   ],
   "source": [
    "# combine all three dataframes together\n",
    "pos_neg_df = pd.concat([positive_df, negative_df], ignore_index=True, axis = 0)\n",
    "combined_df = pd.concat([pos_neg_df, tidy_df], ignore_index = True, axis = 0)\n",
    "\n",
    "# Display the combined DataFrame\n",
    "print(\"\\nCombined DataFrame:\")\n",
    "print(combined_df)"
   ]
  },
  {
   "cell_type": "markdown",
   "id": "6a5f3b12",
   "metadata": {},
   "source": [
    "## Sentiment Analysis on Songs\n",
    "\n",
    "In this section, score the sentiment for all the songs for both artists in your data set. Score the sentiment by manually calculating the sentiment using the combined lexicons provided in this repository. \n",
    "\n",
    "After you have calculated these sentiments, answer the questions at the end of this section.\n"
   ]
  },
  {
   "cell_type": "code",
   "execution_count": 8,
   "id": "664f8d8f",
   "metadata": {},
   "outputs": [],
   "source": [
    "# this function was taken from the textbook with a few tweaks\n",
    "\n",
    "def sentiment_score(text, sentiment_df):\n",
    "    # Convert DataFrame to dictionary for quick lookup\n",
    "    word_dict = pd.Series(sentiment_df.Score.values, index=sentiment_df.word).to_dict()\n",
    "    \n",
    "    sentiment_score = 0\n",
    "    bag_of_words = word_tokenize(text.lower())\n",
    "    for word in bag_of_words:\n",
    "        if word in word_dict:\n",
    "            sentiment_score += word_dict[word]\n",
    "    \n",
    "    if len(bag_of_words) == 0:  # Avoid division by zero\n",
    "        return 0\n",
    "    \n",
    "    return sentiment_score / len(bag_of_words)\n",
    "\n",
    "# clean and tokenize data\n",
    "sw = set(stopwords.words(\"english\")) \n",
    "punctuation = set(punctuation) # speeds up comparison\n",
    "\n",
    "def clean_data(text):\n",
    "    if isinstance(text, str):\n",
    "        new_text = ''.join(char for char in text if char not in punctuation) # getting rid of punctuation\n",
    "        \n",
    "        # fold to lowercase and split on whitespace\n",
    "        tokens = new_text.lower().split()\n",
    "        \n",
    "        # remove stopwords\n",
    "        cleaned_tokens = [token for token in tokens if token not in sw]\n",
    "        \n",
    "        return cleaned_tokens\n",
    "    else:\n",
    "        return(text)\n",
    "\n"
   ]
  },
  {
   "cell_type": "code",
   "execution_count": 9,
   "id": "ba198ea8",
   "metadata": {},
   "outputs": [],
   "source": [
    "# clean and tokenize\n",
    "clean_lyrics_df = lyrics_df['File Content'].apply(clean_data)"
   ]
  },
  {
   "cell_type": "code",
   "execution_count": 10,
   "id": "cbd7b101",
   "metadata": {},
   "outputs": [],
   "source": [
    "clean_lyrics_df = clean_lyrics_df.apply(lambda x: ' '.join(x))\n",
    "lyrics_df['clean lyrics'] = clean_lyrics_df"
   ]
  },
  {
   "cell_type": "code",
   "execution_count": 11,
   "id": "1fc55601",
   "metadata": {},
   "outputs": [
    {
     "data": {
      "text/html": [
       "<div>\n",
       "<style scoped>\n",
       "    .dataframe tbody tr th:only-of-type {\n",
       "        vertical-align: middle;\n",
       "    }\n",
       "\n",
       "    .dataframe tbody tr th {\n",
       "        vertical-align: top;\n",
       "    }\n",
       "\n",
       "    .dataframe thead th {\n",
       "        text-align: right;\n",
       "    }\n",
       "</style>\n",
       "<table border=\"1\" class=\"dataframe\">\n",
       "  <thead>\n",
       "    <tr style=\"text-align: right;\">\n",
       "      <th></th>\n",
       "      <th>Filename</th>\n",
       "      <th>File Content</th>\n",
       "      <th>clean lyrics</th>\n",
       "    </tr>\n",
       "  </thead>\n",
       "  <tbody>\n",
       "    <tr>\n",
       "      <th>0</th>\n",
       "      <td>dualipa_badtogether.txt</td>\n",
       "      <td>\"Bad Together\" lyrics\\n\\nDua Lipa Lyrics\\n\\n\\n...</td>\n",
       "      <td>bad together lyrics dua lipa lyrics bad togeth...</td>\n",
       "    </tr>\n",
       "    <tr>\n",
       "      <th>1</th>\n",
       "      <td>dualipa_begging.txt</td>\n",
       "      <td>\"Begging\" lyrics\\n\\nDua Lipa Lyrics\\n\\n\\n\\n\\n\"...</td>\n",
       "      <td>begging lyrics dua lipa lyrics begging highs l...</td>\n",
       "    </tr>\n",
       "    <tr>\n",
       "      <th>2</th>\n",
       "      <td>dualipa_betheone.txt</td>\n",
       "      <td>\"Be The One\" lyrics\\n\\nDua Lipa Lyrics\\n\\n\\n\\n...</td>\n",
       "      <td>one lyrics dua lipa lyrics one see moon see mo...</td>\n",
       "    </tr>\n",
       "    <tr>\n",
       "      <th>3</th>\n",
       "      <td>dualipa_blowyourmindmwah.txt</td>\n",
       "      <td>\"Blow Your Mind (Mwah)\" lyrics\\n\\nDua Lipa Lyr...</td>\n",
       "      <td>blow mind mwah lyrics dua lipa lyrics blow min...</td>\n",
       "    </tr>\n",
       "    <tr>\n",
       "      <th>4</th>\n",
       "      <td>dualipa_dreams.txt</td>\n",
       "      <td>\"Dreams\" lyrics\\n\\nDua Lipa Lyrics\\n\\n\\n\\n\\n\"D...</td>\n",
       "      <td>dreams lyrics dua lipa lyrics dreams last nigh...</td>\n",
       "    </tr>\n",
       "  </tbody>\n",
       "</table>\n",
       "</div>"
      ],
      "text/plain": [
       "                       Filename  \\\n",
       "0       dualipa_badtogether.txt   \n",
       "1           dualipa_begging.txt   \n",
       "2          dualipa_betheone.txt   \n",
       "3  dualipa_blowyourmindmwah.txt   \n",
       "4            dualipa_dreams.txt   \n",
       "\n",
       "                                        File Content  \\\n",
       "0  \"Bad Together\" lyrics\\n\\nDua Lipa Lyrics\\n\\n\\n...   \n",
       "1  \"Begging\" lyrics\\n\\nDua Lipa Lyrics\\n\\n\\n\\n\\n\"...   \n",
       "2  \"Be The One\" lyrics\\n\\nDua Lipa Lyrics\\n\\n\\n\\n...   \n",
       "3  \"Blow Your Mind (Mwah)\" lyrics\\n\\nDua Lipa Lyr...   \n",
       "4  \"Dreams\" lyrics\\n\\nDua Lipa Lyrics\\n\\n\\n\\n\\n\"D...   \n",
       "\n",
       "                                        clean lyrics  \n",
       "0  bad together lyrics dua lipa lyrics bad togeth...  \n",
       "1  begging lyrics dua lipa lyrics begging highs l...  \n",
       "2  one lyrics dua lipa lyrics one see moon see mo...  \n",
       "3  blow mind mwah lyrics dua lipa lyrics blow min...  \n",
       "4  dreams lyrics dua lipa lyrics dreams last nigh...  "
      ]
     },
     "execution_count": 11,
     "metadata": {},
     "output_type": "execute_result"
    }
   ],
   "source": [
    "lyrics_df.head()"
   ]
  },
  {
   "cell_type": "code",
   "execution_count": 12,
   "id": "212b16c1",
   "metadata": {},
   "outputs": [],
   "source": [
    "# score the lyrics\n",
    "# Apply sentiment_score function to 'Text' column\n",
    "lyrics_df['Sentiment_Score'] = lyrics_df['clean lyrics'].apply(lambda x: sentiment_score(x, combined_df))"
   ]
  },
  {
   "cell_type": "code",
   "execution_count": 13,
   "id": "7a2d2111",
   "metadata": {},
   "outputs": [],
   "source": [
    "# splitting based on artist for lyrics\n",
    "dualipa_lyrics_df = lyrics_df[lyrics_df['Filename'].str.contains('dualipa', case = False)].reset_index()\n",
    "hozier_lyrics_df = lyrics_df[lyrics_df['Filename'].str.contains('hozier', case = False)].reset_index()"
   ]
  },
  {
   "cell_type": "code",
   "execution_count": 14,
   "id": "69bbe173",
   "metadata": {},
   "outputs": [
    {
     "data": {
      "text/plain": [
       "0    -0.074074\n",
       "1    -0.106742\n",
       "2     0.016575\n",
       "3    -0.032389\n",
       "4     0.195572\n",
       "5     0.086705\n",
       "6    -0.030769\n",
       "7     0.207547\n",
       "8     0.000000\n",
       "9     0.022857\n",
       "10   -0.089686\n",
       "11    0.000000\n",
       "12    0.112245\n",
       "13    0.040462\n",
       "14    0.100000\n",
       "15    0.104317\n",
       "16    0.094017\n",
       "17    0.030488\n",
       "18   -0.058201\n",
       "19   -0.085714\n",
       "Name: Sentiment_Score, dtype: float64"
      ]
     },
     "execution_count": 14,
     "metadata": {},
     "output_type": "execute_result"
    }
   ],
   "source": [
    "dualipa_lyrics_df['Sentiment_Score']"
   ]
  },
  {
   "cell_type": "code",
   "execution_count": 15,
   "id": "3fcfd3bf",
   "metadata": {},
   "outputs": [
    {
     "data": {
      "text/plain": [
       "0.026660492164171164"
      ]
     },
     "execution_count": 15,
     "metadata": {},
     "output_type": "execute_result"
    }
   ],
   "source": [
    "avg_dualipa_sentiment = dualipa_lyrics_df['Sentiment_Score'].mean()\n",
    "avg_dualipa_sentiment"
   ]
  },
  {
   "cell_type": "code",
   "execution_count": 16,
   "id": "d1a98d5e",
   "metadata": {},
   "outputs": [
    {
     "data": {
      "text/plain": [
       "0.04888700072132879"
      ]
     },
     "execution_count": 16,
     "metadata": {},
     "output_type": "execute_result"
    }
   ],
   "source": [
    "avg_hozier_sentiment = hozier_lyrics_df['Sentiment_Score'].mean()\n",
    "avg_hozier_sentiment"
   ]
  },
  {
   "cell_type": "code",
   "execution_count": 17,
   "id": "a6a0434c",
   "metadata": {},
   "outputs": [
    {
     "name": "stdout",
     "output_type": "stream",
     "text": [
      "begging lyrics dua lipa lyrics begging highs lows dont keep company ive breathing drinking youre remedy say youre gonna hold head say youre gonna break fall say youre gonna stay forever baby want cause bones begging beg begging beg love lungs begging beg begging beg love swear im gonna hold head swear im gonna break fall swear gonna last forever baby want cause bones begging beg begging beg love losing mind dreaming ill find another kind love blood veins thought taste cant give look face running away cause bones begging beg begging beg love swear im gonna hold head swear im gonna break fall swear gonna last forever baby want cause bones begging beg begging beg love say youre gonna hold head say youre gonna break fall say youre gonna stay forever baby want swear im gonna hold head swear im gonna break fall swear gonna last forever baby want cause bones begging beg begging beg love lungs begging beg begging beg love\n",
      "\n",
      " golden slumbers acoustic lyrics dua lipa lyrics golden slumbers acoustic way get back homeward way get back home sleep pretty darling cry sing lullaby golden slumbers fill eyes smiles await rise sleep pretty darling cry sing lullaby sing lullaby way get back homeward way get back home sleep pretty darling cry sing lullaby\n",
      "\n",
      " dreams lyrics dua lipa lyrics dreams last night fantasies become ohso true said wanted much want said hadnt crossed mind though baby id lying got complicated dont know get like let know cause really like go know real way feel need know get like let know cause really like go know real way feel need know know know know dreams youd say want body dreams youd say need believe dreams youd say love say youll never leave dreams dreams love like yeah yeah love right oh yeah love like yeah yeah love right oh yeah love like yeah yeah love right oh yeah love like love right dreams inside im screaming loud im calling name time started listening dont think hear cause really wanna go right round time ticking gotta leave time ticking gotta leave town tonight get like let know cause really like go know real way feel need know know know know dreams youd say want body dreams youd say need believe dreams youd say love say youll never leave dreams dreams love like yeah yeah love right oh yeah love like yeah yeah love right oh yeah love like yeah yeah love right oh yeah love like love right dreams dreams dreams dreams yeah dreams dreams dreams yeah dreams oh dreams youd say want body dreams youd say need believe dreams youd say love say youll never leave dreams dreams love like yeah yeah love right oh yeah love like yeah yeah love right oh yeah love like yeah yeah love right oh yeah love like love right dreams yeah yeah dreams yeah yeah dreams\n"
     ]
    }
   ],
   "source": [
    "sorted_dualipa = dualipa_lyrics_df.sort_values(by = 'Sentiment_Score')\n",
    "sorted_dualipa = sorted_dualipa.reset_index(drop = True)\n",
    "print(sorted_dualipa['clean lyrics'][0])\n",
    "print(f\"\\n {sorted_dualipa.tail(1)['clean lyrics'].values[0]}\")\n",
    "print(f\"\\n {sorted_dualipa.tail(2)['clean lyrics'].values[0]}\")"
   ]
  },
  {
   "cell_type": "code",
   "execution_count": 18,
   "id": "1ebb0d0b",
   "metadata": {},
   "outputs": [
    {
     "name": "stdout",
     "output_type": "stream",
     "text": [
      "woods somewhere lyrics hozier lyrics woods somewhere head warm skin soaked called name til fever broke awoke moon still hung night black darkness hums raised legs weak prayed mind good awful noise filled air heard scream woods somewhere womans voice quickly ran trees empty hands fox shook afraid spoke word sound made bone exposed hind lame raised stone end pain caused wound large teeth saw new eyes watching creature lunged turned ran save life didnt deer chase flew forgot prayers joining clutched life wished kept dearest love im done yet many years know ill bear found something woods somewhere\n",
      "\n",
      " love never die lyrics hozier lyrics love never die youve done wrong long long time youve done never changed mind honey please try love honey please honey try love never die flowers flowers grow im laid rest honey pick blossom hold hold breast honey know thats love bursting loud inside love oh love love never die\n",
      "\n",
      " like real people lyrics hozier lyrics like real people thought dear however scary night bugs dirt digging bury hands pulled earth ask came ask neither honey put sweet lips lips kiss like real people knew look dear eyes always seeking someone dug long ago ask creeping sad way already know ask came would ask neither would honey put sweet lips lips kiss like real people could ask came could ask neither could honey put sweet lips lips could kiss like real people\n"
     ]
    }
   ],
   "source": [
    "sorted_hozier = hozier_lyrics_df.sort_values(by = 'Sentiment_Score')\n",
    "sorted_hozier = sorted_hozier.reset_index(drop = True)\n",
    "print(sorted_hozier['clean lyrics'][0])\n",
    "print(f\"\\n {sorted_hozier.tail(1)['clean lyrics'].values[0]}\")\n",
    "print(f\"\\n {sorted_hozier.tail(2)['clean lyrics'].values[0]}\")"
   ]
  },
  {
   "cell_type": "markdown",
   "id": "1f8334f4",
   "metadata": {},
   "source": [
    "### Questions\n",
    "\n",
    "Q: Overall, which artist has the higher average sentiment per song? \n",
    "\n",
    "A: Hozier had the higher average sentiment per song with a score of 0.049.\n",
    "\n",
    "---\n",
    "\n",
    "Q: For your first artist, what are the three songs that have the highest and lowest sentiments? Print the lyrics of those songs to the screen. What do you think is driving the sentiment score? \n",
    "\n",
    "A: For the lowest scoring song for Dua Lipa, the word \"beg\" was in there a lot which is considered a negative word. Overall, that song has a negative meaning. Then for the 2 positive scoring songs, there were more positive words like \"love\", \"yeah\", \"home\", \"lullaby\" and \"dreams\". It reflects the positive meaning of the song.\n",
    "\n",
    "---\n",
    "\n",
    "Q: For your second artist, what are the three songs that have the highest and lowest sentiments? Print the lyrics of those songs to the screen. What do you think is driving the sentiment score? \n",
    "\n",
    "A: For Hozier, the lowest scoring song had words like \"darkness\", \"scream\", \"empty\", \"afraid\", \"pain\" - leading to a negative sentiment to the overall song. His two positive scoring songs had words like \"love\", \"flowers\", \"sweet\", \"kiss\" - leading to a positive sentiment of the song.\n",
    "\n",
    "---\n",
    "\n",
    "Q: Plot the distributions of the sentiment scores for both artists. You can use `seaborn` to plot densities or plot histograms in matplotlib.\n",
    "\n",
    "See below for distribution plots."
   ]
  },
  {
   "cell_type": "code",
   "execution_count": 19,
   "id": "e74b390f",
   "metadata": {},
   "outputs": [
    {
     "data": {
      "image/png": "[encoded data removed]",
      "text/plain": [
       "<Figure size 432x288 with 1 Axes>"
      ]
     },
     "metadata": {
      "needs_background": "light"
     },
     "output_type": "display_data"
    }
   ],
   "source": [
    "# Plotting using seaborn\n",
    "hozier_scores = hozier_lyrics_df['Sentiment_Score'].to_numpy()\n",
    "dua_scores = dualipa_lyrics_df['Sentiment_Score'].to_numpy()\n",
    "\n",
    "sns.kdeplot(data = hozier_scores, label = 'Hozier', fill = True)\n",
    "sns.kdeplot(data = dua_scores, label = 'Dua Lipa', fill = True)\n",
    "\n",
    "# Labeling and Title\n",
    "plt.xlabel('Value')\n",
    "plt.ylabel('Density')\n",
    "plt.title('Density Plot of Hozier scores and Dua Lipa scores')\n",
    "\n",
    "# Show Legend\n",
    "plt.legend()\n",
    "\n",
    "# Display plot\n",
    "plt.show()"
   ]
  },
  {
   "cell_type": "markdown",
   "id": "b3fe644d",
   "metadata": {},
   "source": [
    "## Sentiment Analysis on Twitter Descriptions\n",
    "\n",
    "In this section, define two sets of emojis you designate as positive and negative. Make sure to have at least 10 emojis per set. You can learn about the most popular emojis on Twitter at [the emojitracker](https://emojitracker.com/). \n",
    "\n",
    "Associate your positive emojis with a score of +1, negative with -1. Score the average sentiment of your two artists based on the Twitter descriptions of their followers. The average sentiment can just be the total score divided by number of followers. You do not need to calculate sentiment on non-emoji content for this section."
   ]
  },
  {
   "cell_type": "code",
   "execution_count": 89,
   "id": "9947abd3",
   "metadata": {},
   "outputs": [],
   "source": [
    "# create a function to extract emojis from text\n",
    "def extract_emojis(text):\n",
    "    demojized_text = emoji.demojize(text)\n",
    "    return re.findall(r':[a-zA-Z_0-9]+:', demojized_text)\n",
    "\n",
    "# another one for a column in a dataframe\n",
    "def extract_emojis_from_dataframe_column(df, column_name):\n",
    "    emojis_list = []\n",
    "    for value in df[column_name]:\n",
    "        if isinstance(value, str):\n",
    "            demojized_text = emoji.demojize(value)\n",
    "            emojis = re.findall(r':[a-zA-Z_0-9]+:', demojized_text)\n",
    "            emojis_list.extend(emojis)\n",
    "    return emojis_list\n",
    "\n",
    "# function to calculate sentiment score and track emoji occurrences\n",
    "def calculate_sentiment_and_track_emojis(lists_to_compare, positive_emojis, negative_emojis):\n",
    "    positive_score = 0\n",
    "    negative_score = 0\n",
    "    emoji_counts = defaultdict(int)  # Dictionary to store emoji counts\n",
    "    \n",
    "    for emoji_list in lists_to_compare:\n",
    "        for emoji in emoji_list:\n",
    "            if emoji in positive_emojis:\n",
    "                positive_score += 1\n",
    "                emoji_counts[emoji] += 1\n",
    "            elif emoji in negative_emojis:\n",
    "                negative_score += 1\n",
    "                emoji_counts[emoji] += 1\n",
    "    \n",
    "    # overall sentiment score\n",
    "    sentiment_score = positive_score - negative_score\n",
    "    \n",
    "    # sort emojis by their occurrence counts (most popular first)\n",
    "    sorted_emojis = sorted(emoji_counts.items(), key=lambda x: x[1], reverse=True)\n",
    "    \n",
    "    return sentiment_score, sorted_emojis\n",
    "\n",
    "\n",
    "def clean_data(text):\n",
    "    if isinstance(text, str):\n",
    "        new_text = ''.join(char for char in text if char not in punctuation) # getting rid of punctuation\n",
    "        \n",
    "        # fold to lowercase and split on whitespace\n",
    "        tokens = new_text.lower().split()\n",
    "        \n",
    "        # remove stopwords\n",
    "        cleaned_tokens = [token for token in tokens if token not in sw]\n",
    "        \n",
    "        return cleaned_tokens\n",
    "    else:\n",
    "        return(text)\n",
    "    \n",
    "# gotta make everything a str, not list\n",
    "def list_to_str(cell):\n",
    "    if isinstance(cell, float):\n",
    "        return ''\n",
    "    cell = [item for item in cell if not isinstance(item, float)] # filtering out float values\n",
    "    return ''.join(map(str,cell))\n",
    "\n",
    "# create a function to extract emojis from text\n",
    "def extract_emojis(text):\n",
    "    demojized_text = emoji.demojize(text)\n",
    "    return re.findall(r':[a-zA-Z_0-9]+:', demojized_text) # matching on regular expression to get the entirety of the emoji out\n"
   ]
  },
  {
   "cell_type": "code",
   "execution_count": 85,
   "id": "1a5c1d25",
   "metadata": {},
   "outputs": [],
   "source": [
    "# define the emojis\n",
    "positive_emojis = [':grinning_face_with_smiling_eyes:',':smiling_face_with_smiling_eyes:',':thumbs_up:',\n",
    "                   ':smiling_face_with_sunglasses:',':glowing_star:',':party_popper:',':sun_with_face:',':clapping_hands:',\n",
    "                  ':heart:, :heart_eyes']\n",
    "negative_emojis = [':pensive_face:',\n",
    " ':disappointed_face:',\n",
    " ':crying_face:',\n",
    " ':enraged_face:',\n",
    " ':unamused_face:',\n",
    " ':loudly_crying_face:',\n",
    " ':broken_heart:',\n",
    " ':angry_face:',\n",
    " ':persevering_face:',\n",
    " ':slightly_frowning_face:']"
   ]
  },
  {
   "cell_type": "code",
   "execution_count": 65,
   "id": "a42e7729",
   "metadata": {},
   "outputs": [],
   "source": [
    "# clean the description column\n",
    "new_cher_df = cher_df['description'].apply(clean_data)\n",
    "new_robyn_df = robyn_df['description'].apply(clean_data)"
   ]
  },
  {
   "cell_type": "code",
   "execution_count": 69,
   "id": "feb38c8d",
   "metadata": {},
   "outputs": [],
   "source": [
    "# only extract emojis\n",
    "cher_emos = new_cher_df.apply(list_to_str)\n",
    "new_cher_emos = cher_emos.apply(extract_emojis)\n",
    "filtered_cher_emos = new_cher_emos[new_cher_emos.apply(lambda x: len(x) > 0)]\n",
    "\n",
    "robyn_emos = new_robyn_df.apply(list_to_str)\n",
    "new_robyn_emos = robyn_emos.apply(extract_emojis)\n",
    "filtered_robyn_emos = new_robyn_emos[new_robyn_emos.apply(lambda x: len(x) > 0)]"
   ]
  },
  {
   "cell_type": "code",
   "execution_count": 94,
   "id": "523100bf",
   "metadata": {},
   "outputs": [],
   "source": [
    "# calculate sentiment scores\n",
    "cher_score, cher_emojis = calculate_sentiment_and_track_emojis(filtered_cher_emos, positive_emojis, negative_emojis)\n",
    "robyn_score, robyn_emojis = calculate_sentiment_and_track_emojis(filtered_robyn_emos, positive_emojis, negative_emojis)\n"
   ]
  },
  {
   "cell_type": "code",
   "execution_count": 96,
   "id": "e136ed60",
   "metadata": {},
   "outputs": [],
   "source": [
    "# calculate average sentiment scores per follower\n",
    "avg_cher_score = cher_score / cher_df.shape[0]\n",
    "avg_robyn_score = robyn_score / robyn_df.shape[0]"
   ]
  },
  {
   "cell_type": "code",
   "execution_count": 97,
   "id": "d7e78506",
   "metadata": {},
   "outputs": [
    {
     "name": "stdout",
     "output_type": "stream",
     "text": [
      "Average sentiment score for cher: 0.008025626033811573\n",
      "Average sentiment score for robyn: 0.0024897751528397934\n"
     ]
    }
   ],
   "source": [
    "# print results\n",
    "print(f\"Average sentiment score for cher: {avg_cher_score}\")\n",
    "print(f\"Average sentiment score for robyn: {avg_robyn_score}\")"
   ]
  },
  {
   "cell_type": "code",
   "execution_count": 98,
   "id": "387fac79",
   "metadata": {},
   "outputs": [
    {
     "data": {
      "text/plain": [
       "[(':smiling_face_with_sunglasses:', 5443),\n",
       " (':smiling_face_with_smiling_eyes:', 4761),\n",
       " (':sun_with_face:', 2928),\n",
       " (':glowing_star:', 2818),\n",
       " (':broken_heart:', 1588),\n",
       " (':thumbs_up:', 1573),\n",
       " (':party_popper:', 1075),\n",
       " (':grinning_face_with_smiling_eyes:', 796),\n",
       " (':loudly_crying_face:', 714),\n",
       " (':clapping_hands:', 611),\n",
       " (':pensive_face:', 382),\n",
       " (':crying_face:', 335),\n",
       " (':enraged_face:', 313),\n",
       " (':unamused_face:', 284),\n",
       " (':angry_face:', 115),\n",
       " (':disappointed_face:', 106),\n",
       " (':persevering_face:', 65),\n",
       " (':slightly_frowning_face:', 43)]"
      ]
     },
     "execution_count": 98,
     "metadata": {},
     "output_type": "execute_result"
    }
   ],
   "source": [
    "cher_emojis"
   ]
  },
  {
   "cell_type": "code",
   "execution_count": 99,
   "id": "4692ef69",
   "metadata": {},
   "outputs": [
    {
     "data": {
      "text/plain": [
       "[(':smiling_face_with_sunglasses:', 276),\n",
       " (':smiling_face_with_smiling_eyes:', 184),\n",
       " (':glowing_star:', 173),\n",
       " (':sun_with_face:', 160),\n",
       " (':thumbs_up:', 99),\n",
       " (':party_popper:', 73),\n",
       " (':broken_heart:', 59),\n",
       " (':loudly_crying_face:', 41),\n",
       " (':grinning_face_with_smiling_eyes:', 35),\n",
       " (':clapping_hands:', 33),\n",
       " (':unamused_face:', 14),\n",
       " (':enraged_face:', 12),\n",
       " (':pensive_face:', 11),\n",
       " (':crying_face:', 9),\n",
       " (':angry_face:', 6),\n",
       " (':persevering_face:', 3),\n",
       " (':disappointed_face:', 1),\n",
       " (':slightly_frowning_face:', 1)]"
      ]
     },
     "execution_count": 99,
     "metadata": {},
     "output_type": "execute_result"
    }
   ],
   "source": [
    "robyn_emojis"
   ]
  },
  {
   "cell_type": "markdown",
   "id": "fb92eb93",
   "metadata": {},
   "source": [
    "Q: What is the average sentiment of your two artists? \n",
    "\n",
    "A: The average sentiment for cher was 0.008 and the average sentiment for robyn was 0.002. While the sentiment is positive, the reason i think the number is so small is because of the positive and negative emoji list that I chose. That list is way smaller than the number of followers each artist has.\n",
    "\n",
    "---\n",
    "\n",
    "Q: Which positive emoji is the most popular for each artist? Which negative emoji? \n",
    "\n",
    "A: For Cher,the most popular positive emoji was :smiling_face_with_sunglasses: and the most negative one was :broken_heart:. For robyn, the most popular positive emoji was also :smiling_face_with_sunglasses: and the most negative one was also :broken_heart:. \n",
    "\n"
   ]
  }
 ],
 "metadata": {
  "kernelspec": {
   "display_name": "Python 3 (ipykernel)",
   "language": "python",
   "name": "python3"
  },
  "language_info": {
   "codemirror_mode": {
    "name": "ipython",
    "version": 3
   },
   "file_extension": ".py",
   "mimetype": "text/x-python",
   "name": "python",
   "nbconvert_exporter": "python",
   "pygments_lexer": "ipython3",
   "version": "3.9.12"
  }
 },
 "nbformat": 4,
 "nbformat_minor": 5
}
