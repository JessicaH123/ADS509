{
 "cells": [
  {
   "cell_type": "markdown",
   "id": "7f79baf9",
   "metadata": {},
   "source": [
    "# ADS 509 Assignment 2.1: Tokenization, Normalization, Descriptive Statistics\n",
    "Jessica Hin  \n",
    "008515095  \n",
    "May 20th, 2024  \n",
    "\n",
    "This notebook holds Assignment 2.1 for Module 2 in ADS 509, Applied Text Mining. Work through this notebook, writing code and answering questions where required. \n",
    "\n",
    "In the previous assignment you pulled lyrics data on two artists. In this assignment we explore this data set and a pull from the now-defunct Twitter API for the artists Cher and Robyn.  If, for some reason, you did not complete that previous assignment, data to use for this assignment can be found in the assignment materials section of Canvas. \n",
    "\n",
    "This assignment asks you to write a short function to calculate some descriptive statistics on a piece of text. Then you are asked to find some interesting and unique statistics on your corpora. \n"
   ]
  },
  {
   "cell_type": "code",
   "execution_count": 1,
   "id": "59b05875",
   "metadata": {},
   "outputs": [],
   "source": [
    "# installing the libraries I need\n",
    "#!pip install emoji\n",
    "#!pip install collections\n",
    "#!pip install nltk\n",
    "#!pip install string"
   ]
  },
  {
   "cell_type": "code",
   "execution_count": 2,
   "id": "e2d096b7",
   "metadata": {},
   "outputs": [],
   "source": [
    "import os\n",
    "import re\n",
    "import emoji\n",
    "import pandas as pd\n",
    "import numpy as np\n",
    "import nltk\n",
    "import matplotlib.pyplot as plt\n",
    "\n",
    "from collections import Counter, defaultdict\n",
    "from nltk.corpus import stopwords\n",
    "from string import punctuation"
   ]
  },
  {
   "cell_type": "code",
   "execution_count": 3,
   "id": "923b5a86",
   "metadata": {},
   "outputs": [],
   "source": [
    "# change `data_location` to the location of the folder on your machine.\n",
    "data_location = \"C:/Users/jessh/Documents/ADS509/\"\n",
    "\n",
    "# These subfolders should still work if you correctly stored the \n",
    "# data from the Module 1 assignment\n",
    "twitter_folder = \"twitter/\"\n",
    "lyrics_folder =  \"lyrics/\""
   ]
  },
  {
   "cell_type": "code",
   "execution_count": 4,
   "id": "06522af9",
   "metadata": {},
   "outputs": [],
   "source": [
    "def descriptive_stats(tokens, num_tokens = 5 , verbose=True) :\n",
    "    \"\"\"\n",
    "        Given a list of tokens, print number of tokens, number of unique tokens, \n",
    "        number of characters, lexical diversity (https://en.wikipedia.org/wiki/Lexical_diversity), \n",
    "        and num_tokens most common tokens. Return a list with the number of tokens, number\n",
    "        of unique tokens, lexical diversity, and number of characters. \n",
    "    \n",
    "    \"\"\"\n",
    "\n",
    "    # Fill in the correct values here. \n",
    "    flat_tokens = [token for token in tokens if not isinstance(token,float)]\n",
    "    #flat_tokens = [token for sublist in tokens if isinstance(sublist, list) for token in sublist if not isinstance(token, float)]\n",
    "    num_tokens = len(flat_tokens) # number of tokens\n",
    "    num_unique_tokens = len(set(flat_tokens)) # number of unique tokens\n",
    "    lexical_diversity = num_unique_tokens/num_tokens  # lexical diversity\n",
    "    num_characters = sum(len(token) for token in flat_tokens) # number of characters\n",
    "    most_common_tokens = Counter(flat_tokens).most_common(num_tokens)[0:5] # most common tokens\n",
    "   \n",
    "    \n",
    "    if verbose :        \n",
    "        print(f\"There are {num_tokens} tokens in the data.\")\n",
    "        print(f\"There are {num_unique_tokens} unique tokens in the data.\")\n",
    "        print(f\"There are {num_characters} characters in the data.\")\n",
    "        print(f\"The lexical diversity is {lexical_diversity:.3f} in the data.\")\n",
    "        \n",
    "    print(f\"The five most common tokens are {most_common_tokens} in the data.\")      \n",
    "    \n",
    "    return([num_tokens, num_unique_tokens,\n",
    "            lexical_diversity,\n",
    "            num_characters])\n",
    "    "
   ]
  },
  {
   "cell_type": "code",
   "execution_count": 5,
   "id": "59dcf058",
   "metadata": {},
   "outputs": [
    {
     "name": "stdout",
     "output_type": "stream",
     "text": [
      "There are 13 tokens in the data.\n",
      "There are 9 unique tokens in the data.\n",
      "There are 55 characters in the data.\n",
      "The lexical diversity is 0.692 in the data.\n",
      "The five most common tokens are [('text', 3), ('here', 2), ('example', 2), ('is', 1), ('some', 1)] in the data.\n",
      "The five most common tokens are [('text', 3), ('here', 2), ('example', 2), ('is', 1), ('some', 1)] in the data.\n",
      "The five most common tokens are [('text', 3), ('here', 2), ('example', 2), ('is', 1), ('some', 1)] in the data.\n",
      "The five most common tokens are [('text', 3), ('here', 2), ('example', 2), ('is', 1), ('some', 1)] in the data.\n"
     ]
    }
   ],
   "source": [
    "text = \"\"\"here is some example text with other example text here in this text\"\"\".split()\n",
    "assert(descriptive_stats(text, verbose=True)[0] == 13)\n",
    "assert(descriptive_stats(text, verbose=False)[1] == 9)\n",
    "assert(abs(descriptive_stats(text, verbose=False)[2] - 0.69) < 0.02)\n",
    "assert(descriptive_stats(text, verbose=False)[3] == 55)\n"
   ]
  },
  {
   "cell_type": "markdown",
   "id": "d2e7e1a2",
   "metadata": {},
   "source": [
    "Q: Why is it beneficial to use assertion statements in your code? \n",
    "\n",
    "A: It is beneficial to use assertion statements to test, debug, and detect errors. In this case, it is used to check if your user defined function works as expected. Based on the the text above, the assertions statements check if the number of tokens, number of unique tokens, characters, and lexical diversity are correct. If it does, then there should be a \"AssertionError\" flag."
   ]
  },
  {
   "cell_type": "markdown",
   "id": "9d3bf93e",
   "metadata": {},
   "source": [
    "## Data Input\n",
    "\n",
    "Now read in each of the corpora. For the lyrics data, it may be convenient to store the entire contents of the file to make it easier to inspect the titles individually, as you'll do in the last part of the assignment. In the solution, I stored the lyrics data in a dictionary with two dimensions of keys: artist and song. The value was the file contents. A data frame would work equally well. \n",
    "\n",
    "For the Twitter data, we only need the description field for this assignment. Feel free all the descriptions read it into a data structure. In the solution, I stored the descriptions as a dictionary of lists, with the key being the artist. \n",
    "\n",
    "\n"
   ]
  },
  {
   "cell_type": "markdown",
   "id": "a883f53a",
   "metadata": {},
   "source": [
    "### Reading in Lyrics"
   ]
  },
  {
   "cell_type": "code",
   "execution_count": 6,
   "id": "aa95736d",
   "metadata": {},
   "outputs": [],
   "source": [
    "# user defined function for removing the www.azlyrics.com portion of the filenames\n",
    "def edit_filename(link) :\n",
    "    \n",
    "    if not link :\n",
    "        return None\n",
    "\n",
    "    # drop the http or https and the html\n",
    "    name = link\n",
    "    name = re.sub(r'^www_azlyrics_com_', '', name)\n",
    "    \n",
    "    return(name)"
   ]
  },
  {
   "cell_type": "markdown",
   "id": "3516d972",
   "metadata": {},
   "source": [
    "This next cell of code was just renaming the files within each artist's folder. The for loop was ran twice for each artist."
   ]
  },
  {
   "cell_type": "code",
   "execution_count": 7,
   "id": "13659e96",
   "metadata": {},
   "outputs": [
    {
     "name": "stdout",
     "output_type": "stream",
     "text": [
      "Files renamed successfully!\n"
     ]
    }
   ],
   "source": [
    "# renaming all the files in each artist folders to remove the www_azlyrics_com_ portion in the filename\n",
    "dualipa_folder_path = data_location + lyrics_folder + \"dualipa\"\n",
    "hozier_folder_path = data_location + lyrics_folder + \"hozier\"\n",
    "\n",
    "# List all files in the folder\n",
    "files = os.listdir(hozier_folder_path)\n",
    "\n",
    "# Iterate through each file and rename them\n",
    "for filename in files:\n",
    "    # Construct the full old and new file paths\n",
    "    old_filepath = os.path.join(hozier_folder_path, filename)\n",
    "    new_filename = old_filepath.replace(\"www_azlyrics_com_\", \"\") \n",
    "    new_filepath = os.path.join(hozier_folder_path, new_filename)\n",
    "    \n",
    "    try:\n",
    "        # Rename the file\n",
    "        os.rename(old_filepath, new_filepath)\n",
    "    except Exception as e:\n",
    "        print(f\"Failed to rename '{filename}': {e}\")\n",
    "\n",
    "print(\"Files renamed successfully!\")"
   ]
  },
  {
   "cell_type": "markdown",
   "id": "8a0f0764",
   "metadata": {},
   "source": [
    "We have to get to the folder of each artist and then pull the text files and store them into a dataframe. The folder path that contained both artist was defined first, then within the first for loop, they got the path to each artist and their corresponding lyric files. The result is a dataframe with \"Filename\" as one column and another column \"File Content\" that contains the whole text file content. "
   ]
  },
  {
   "cell_type": "code",
   "execution_count": 8,
   "id": "a260ec1f",
   "metadata": {},
   "outputs": [
    {
     "data": {
      "text/html": [
       "<div>\n",
       "<style scoped>\n",
       "    .dataframe tbody tr th:only-of-type {\n",
       "        vertical-align: middle;\n",
       "    }\n",
       "\n",
       "    .dataframe tbody tr th {\n",
       "        vertical-align: top;\n",
       "    }\n",
       "\n",
       "    .dataframe thead th {\n",
       "        text-align: right;\n",
       "    }\n",
       "</style>\n",
       "<table border=\"1\" class=\"dataframe\">\n",
       "  <thead>\n",
       "    <tr style=\"text-align: right;\">\n",
       "      <th></th>\n",
       "      <th>Filename</th>\n",
       "      <th>File Content</th>\n",
       "    </tr>\n",
       "  </thead>\n",
       "  <tbody>\n",
       "    <tr>\n",
       "      <th>0</th>\n",
       "      <td>dualipa_badtogether.txt</td>\n",
       "      <td>\"Bad Together\" lyrics\\n\\nDua Lipa Lyrics\\n\\n\\n...</td>\n",
       "    </tr>\n",
       "    <tr>\n",
       "      <th>1</th>\n",
       "      <td>dualipa_begging.txt</td>\n",
       "      <td>\"Begging\" lyrics\\n\\nDua Lipa Lyrics\\n\\n\\n\\n\\n\"...</td>\n",
       "    </tr>\n",
       "    <tr>\n",
       "      <th>2</th>\n",
       "      <td>dualipa_betheone.txt</td>\n",
       "      <td>\"Be The One\" lyrics\\n\\nDua Lipa Lyrics\\n\\n\\n\\n...</td>\n",
       "    </tr>\n",
       "    <tr>\n",
       "      <th>3</th>\n",
       "      <td>dualipa_blowyourmindmwah.txt</td>\n",
       "      <td>\"Blow Your Mind (Mwah)\" lyrics\\n\\nDua Lipa Lyr...</td>\n",
       "    </tr>\n",
       "    <tr>\n",
       "      <th>4</th>\n",
       "      <td>dualipa_dreams.txt</td>\n",
       "      <td>\"Dreams\" lyrics\\n\\nDua Lipa Lyrics\\n\\n\\n\\n\\n\"D...</td>\n",
       "    </tr>\n",
       "  </tbody>\n",
       "</table>\n",
       "</div>"
      ],
      "text/plain": [
       "                       Filename  \\\n",
       "0       dualipa_badtogether.txt   \n",
       "1           dualipa_begging.txt   \n",
       "2          dualipa_betheone.txt   \n",
       "3  dualipa_blowyourmindmwah.txt   \n",
       "4            dualipa_dreams.txt   \n",
       "\n",
       "                                        File Content  \n",
       "0  \"Bad Together\" lyrics\\n\\nDua Lipa Lyrics\\n\\n\\n...  \n",
       "1  \"Begging\" lyrics\\n\\nDua Lipa Lyrics\\n\\n\\n\\n\\n\"...  \n",
       "2  \"Be The One\" lyrics\\n\\nDua Lipa Lyrics\\n\\n\\n\\n...  \n",
       "3  \"Blow Your Mind (Mwah)\" lyrics\\n\\nDua Lipa Lyr...  \n",
       "4  \"Dreams\" lyrics\\n\\nDua Lipa Lyrics\\n\\n\\n\\n\\n\"D...  "
      ]
     },
     "execution_count": 8,
     "metadata": {},
     "output_type": "execute_result"
    }
   ],
   "source": [
    "# getting the path to the lyrics folder\n",
    "folder_path = data_location + lyrics_folder\n",
    "\n",
    "# List to store all file paths\n",
    "all_file_paths = []\n",
    "\n",
    "# go through all directories and subdirectories\n",
    "for root, dirs, files in os.walk(folder_path):\n",
    "    for file in files:\n",
    "        file_path = os.path.join(root, file)\n",
    "        all_file_paths.append(file_path)\n",
    "        \n",
    "# read the contents of each file and store them along with the filename using the folder_paths variable\n",
    "file_data = []\n",
    "for file_path in all_file_paths:\n",
    "    with open(file_path, 'r') as file:\n",
    "        content = file.read()\n",
    "        filename = os.path.relpath(file_path, folder_path) # Get the relative path as filename\n",
    "        filename = os.path.basename(filename) # only getting the filename of whatever we pulled\n",
    "        file_data.append((filename, content))\n",
    "\n",
    "# create a dataframe with columns 'Filename' and 'File Content'\n",
    "df = pd.DataFrame(file_data, columns=['Filename', 'File Content'])\n",
    "\n",
    "# Display the dataframe\n",
    "df.head(5)"
   ]
  },
  {
   "cell_type": "markdown",
   "id": "a6209fd8",
   "metadata": {},
   "source": [
    "### Reading in Twitter data"
   ]
  },
  {
   "cell_type": "markdown",
   "id": "4f36aa25",
   "metadata": {},
   "source": [
    "Reading in the twitter files is easier. Since we only need the cher_followers_data and robynkonichiwa_followers_data, we're going to read in both and append it to each other to create one dataframe."
   ]
  },
  {
   "cell_type": "code",
   "execution_count": 9,
   "id": "e2bb3187",
   "metadata": {},
   "outputs": [
    {
     "data": {
      "text/html": [
       "<div>\n",
       "<style scoped>\n",
       "    .dataframe tbody tr th:only-of-type {\n",
       "        vertical-align: middle;\n",
       "    }\n",
       "\n",
       "    .dataframe tbody tr th {\n",
       "        vertical-align: top;\n",
       "    }\n",
       "\n",
       "    .dataframe thead th {\n",
       "        text-align: right;\n",
       "    }\n",
       "</style>\n",
       "<table border=\"1\" class=\"dataframe\">\n",
       "  <thead>\n",
       "    <tr style=\"text-align: right;\">\n",
       "      <th></th>\n",
       "      <th>screen_name</th>\n",
       "      <th>name</th>\n",
       "      <th>id</th>\n",
       "      <th>location</th>\n",
       "      <th>followers_count</th>\n",
       "      <th>friends_count</th>\n",
       "      <th>description</th>\n",
       "    </tr>\n",
       "  </thead>\n",
       "  <tbody>\n",
       "    <tr>\n",
       "      <th>0</th>\n",
       "      <td>AngelxoArts</td>\n",
       "      <td>Angelxo</td>\n",
       "      <td>1424055675030806529</td>\n",
       "      <td>Zacatlan, Puebla, Mexico</td>\n",
       "      <td>29</td>\n",
       "      <td>535</td>\n",
       "      <td>I love chill •Facebook / Instagram / SoundClou...</td>\n",
       "    </tr>\n",
       "    <tr>\n",
       "      <th>1</th>\n",
       "      <td>songsfornikola</td>\n",
       "      <td>johnny</td>\n",
       "      <td>1502717352575651840</td>\n",
       "      <td>NaN</td>\n",
       "      <td>6</td>\n",
       "      <td>318</td>\n",
       "      <td>books, movies, music, nature &amp; TV shows. OG Sw...</td>\n",
       "    </tr>\n",
       "    <tr>\n",
       "      <th>2</th>\n",
       "      <td>thibaud_lola</td>\n",
       "      <td>Thibaud Lola</td>\n",
       "      <td>1502407708246478852</td>\n",
       "      <td>NaN</td>\n",
       "      <td>3</td>\n",
       "      <td>69</td>\n",
       "      <td>(Am)auteur en herbe 🌱 - juriste en paille 🤡 - ...</td>\n",
       "    </tr>\n",
       "    <tr>\n",
       "      <th>3</th>\n",
       "      <td>KyleSew2112</td>\n",
       "      <td>Kyle S 🌹🇬🇧🇺🇦</td>\n",
       "      <td>3423966821</td>\n",
       "      <td>South East London</td>\n",
       "      <td>1258</td>\n",
       "      <td>3444</td>\n",
       "      <td>This Twitter profile is full of sarcasm and ra...</td>\n",
       "    </tr>\n",
       "    <tr>\n",
       "      <th>4</th>\n",
       "      <td>MusiFlo</td>\n",
       "      <td>MusiFlo</td>\n",
       "      <td>3324069364</td>\n",
       "      <td>Canada</td>\n",
       "      <td>470</td>\n",
       "      <td>1706</td>\n",
       "      <td>Flora Youssef - Blogger &amp; Founder Posting revi...</td>\n",
       "    </tr>\n",
       "  </tbody>\n",
       "</table>\n",
       "</div>"
      ],
      "text/plain": [
       "      screen_name          name                   id  \\\n",
       "0     AngelxoArts       Angelxo  1424055675030806529   \n",
       "1  songsfornikola        johnny  1502717352575651840   \n",
       "2    thibaud_lola  Thibaud Lola  1502407708246478852   \n",
       "3     KyleSew2112  Kyle S 🌹🇬🇧🇺🇦           3423966821   \n",
       "4         MusiFlo       MusiFlo           3324069364   \n",
       "\n",
       "                   location  followers_count  friends_count  \\\n",
       "0  Zacatlan, Puebla, Mexico               29            535   \n",
       "1                       NaN                6            318   \n",
       "2                       NaN                3             69   \n",
       "3         South East London             1258           3444   \n",
       "4                    Canada              470           1706   \n",
       "\n",
       "                                         description  \n",
       "0  I love chill •Facebook / Instagram / SoundClou...  \n",
       "1  books, movies, music, nature & TV shows. OG Sw...  \n",
       "2  (Am)auteur en herbe 🌱 - juriste en paille 🤡 - ...  \n",
       "3  This Twitter profile is full of sarcasm and ra...  \n",
       "4  Flora Youssef - Blogger & Founder Posting revi...  "
      ]
     },
     "execution_count": 9,
     "metadata": {},
     "output_type": "execute_result"
    }
   ],
   "source": [
    "# change working directory\n",
    "os.chdir(data_location+twitter_folder)\n",
    "\n",
    "# define filepath for robyn\n",
    "robyn_filepath = \"robynkonichiwa_followers_data.txt\"\n",
    "\n",
    "# Read in the text file as a DataFrame\n",
    "robyn_df = pd.read_csv(robyn_filepath, delimiter='\\t') \n",
    "robyn_df.head(5)"
   ]
  },
  {
   "cell_type": "markdown",
   "id": "93702f32",
   "metadata": {},
   "source": [
    "The cher data file gave me more trouble with a row reading as 12 columns instead of 7, so i had to find a way around that."
   ]
  },
  {
   "cell_type": "code",
   "execution_count": 10,
   "id": "a514bd28",
   "metadata": {},
   "outputs": [
    {
     "data": {
      "text/html": [
       "<div>\n",
       "<style scoped>\n",
       "    .dataframe tbody tr th:only-of-type {\n",
       "        vertical-align: middle;\n",
       "    }\n",
       "\n",
       "    .dataframe tbody tr th {\n",
       "        vertical-align: top;\n",
       "    }\n",
       "\n",
       "    .dataframe thead th {\n",
       "        text-align: right;\n",
       "    }\n",
       "</style>\n",
       "<table border=\"1\" class=\"dataframe\">\n",
       "  <thead>\n",
       "    <tr style=\"text-align: right;\">\n",
       "      <th></th>\n",
       "      <th>screen_name</th>\n",
       "      <th>name</th>\n",
       "      <th>id</th>\n",
       "      <th>location</th>\n",
       "      <th>followers_count</th>\n",
       "      <th>friends_count</th>\n",
       "      <th>description</th>\n",
       "    </tr>\n",
       "  </thead>\n",
       "  <tbody>\n",
       "    <tr>\n",
       "      <th>0</th>\n",
       "      <td>horrormomy</td>\n",
       "      <td>Jeny</td>\n",
       "      <td>742153090850164742</td>\n",
       "      <td>Earth</td>\n",
       "      <td>81</td>\n",
       "      <td>514</td>\n",
       "      <td>𝙿𝚛𝚘𝚞𝚍 𝚜𝚞𝚙𝚙𝚘𝚛𝚝𝚎𝚛 𝚘𝚏 𝚖𝚎𝚜𝚜𝚢 𝚋𝚞𝚗𝚜 &amp; 𝚕𝚎𝚐𝚐𝚒𝚗𝚐𝚜</td>\n",
       "    </tr>\n",
       "    <tr>\n",
       "      <th>1</th>\n",
       "      <td>anju79990584</td>\n",
       "      <td>anju</td>\n",
       "      <td>1496463006451974150</td>\n",
       "      <td></td>\n",
       "      <td>13</td>\n",
       "      <td>140</td>\n",
       "      <td>163㎝／愛かっぷ💜26歳🍒 工〇好きな女の子💓 フォローしてくれたらDMします🧡</td>\n",
       "    </tr>\n",
       "    <tr>\n",
       "      <th>2</th>\n",
       "      <td>gallionjenna</td>\n",
       "      <td>J</td>\n",
       "      <td>3366479914</td>\n",
       "      <td></td>\n",
       "      <td>752</td>\n",
       "      <td>556</td>\n",
       "      <td>csu</td>\n",
       "    </tr>\n",
       "    <tr>\n",
       "      <th>3</th>\n",
       "      <td>bcscomm</td>\n",
       "      <td>bcscomm</td>\n",
       "      <td>83915043</td>\n",
       "      <td>Washington, DC</td>\n",
       "      <td>888</td>\n",
       "      <td>2891</td>\n",
       "      <td>Writer @Washinformer @SpelmanCollege alumna #D...</td>\n",
       "    </tr>\n",
       "    <tr>\n",
       "      <th>4</th>\n",
       "      <td>Rodhandyjj</td>\n",
       "      <td>Art Vandalay 🇺🇦🇺🇦🇺🇦</td>\n",
       "      <td>1386454132022824962</td>\n",
       "      <td>Maine, USA</td>\n",
       "      <td>104</td>\n",
       "      <td>159</td>\n",
       "      <td>I’m unemployed and live with my parents. MOOPS!</td>\n",
       "    </tr>\n",
       "  </tbody>\n",
       "</table>\n",
       "</div>"
      ],
      "text/plain": [
       "    screen_name                 name                   id        location  \\\n",
       "0    horrormomy                 Jeny   742153090850164742           Earth   \n",
       "1  anju79990584                 anju  1496463006451974150                   \n",
       "2  gallionjenna                    J           3366479914                   \n",
       "3       bcscomm              bcscomm             83915043  Washington, DC   \n",
       "4    Rodhandyjj  Art Vandalay 🇺🇦🇺🇦🇺🇦  1386454132022824962      Maine, USA   \n",
       "\n",
       "  followers_count friends_count  \\\n",
       "0              81           514   \n",
       "1              13           140   \n",
       "2             752           556   \n",
       "3             888          2891   \n",
       "4             104           159   \n",
       "\n",
       "                                         description  \n",
       "0           𝙿𝚛𝚘𝚞𝚍 𝚜𝚞𝚙𝚙𝚘𝚛𝚝𝚎𝚛 𝚘𝚏 𝚖𝚎𝚜𝚜𝚢 𝚋𝚞𝚗𝚜 & 𝚕𝚎𝚐𝚐𝚒𝚗𝚐𝚜  \n",
       "1          163㎝／愛かっぷ💜26歳🍒 工〇好きな女の子💓 フォローしてくれたらDMします🧡  \n",
       "2                                                csu  \n",
       "3  Writer @Washinformer @SpelmanCollege alumna #D...  \n",
       "4    I’m unemployed and live with my parents. MOOPS!  "
      ]
     },
     "execution_count": 10,
     "metadata": {},
     "output_type": "execute_result"
    }
   ],
   "source": [
    "# define filepath for cher\n",
    "cher_filepath = \"cher_followers_data.txt\"\n",
    "\n",
    "# define column names\n",
    "columns = [\"screen_name\", \"name\", \"id\", \"location\", \"followers_count\", \"friends_count\", \"description\"]\n",
    "\n",
    "# Initialize an empty list to store data\n",
    "data = []\n",
    "\n",
    "# Open the text file and read line by line\n",
    "with open(cher_filepath, 'r', encoding = 'utf-8') as file:\n",
    "    for line in file:\n",
    "        # Split the line by tab delimiter\n",
    "        fields = line.strip().split('\\t')\n",
    "        # If the line has expected number of fields\n",
    "        if len(fields) == len(columns):\n",
    "            data.append(fields)\n",
    "\n",
    "# the list will be changed to a dataframe\n",
    "cher_df = pd.DataFrame(data, columns=columns)\n",
    "\n",
    "# dropping the first row\n",
    "cher_df = cher_df.iloc[1:]\n",
    "cher_df.reset_index(drop=True, inplace=True)\n",
    "\n",
    "# Display the DataFrame\n",
    "cher_df.head(5)"
   ]
  },
  {
   "cell_type": "markdown",
   "id": "6a5f3b12",
   "metadata": {},
   "source": [
    "## Data Cleaning\n",
    "\n",
    "Now clean and tokenize your data. Remove punctuation chacters (available in the `punctuation` object in the `string` library), split on whitespace, fold to lowercase, and remove stopwords. Store your cleaned data, which must be accessible as an interable for `descriptive_stats`, in new objects or in new columns in your data frame. \n",
    "\n"
   ]
  },
  {
   "cell_type": "code",
   "execution_count": 11,
   "id": "71c73d86",
   "metadata": {},
   "outputs": [],
   "source": [
    "sw = set(stopwords.words(\"english\")) \n",
    "punctuation = set(punctuation) # speeds up comparison"
   ]
  },
  {
   "cell_type": "code",
   "execution_count": 12,
   "id": "b327033a",
   "metadata": {},
   "outputs": [
    {
     "data": {
      "text/plain": [
       "0        [𝙿𝚛𝚘𝚞𝚍, 𝚜𝚞𝚙𝚙𝚘𝚛𝚝𝚎𝚛, 𝚘𝚏, 𝚖𝚎𝚜𝚜𝚢, 𝚋𝚞𝚗𝚜, 𝚕𝚎𝚐𝚐𝚒𝚗𝚐𝚜]\n",
       "1        [163㎝／愛かっぷ💜26歳🍒, 工〇好きな女の子💓, フォローしてくれたらdmします🧡]\n",
       "2                                                [csu]\n",
       "3    [writer, washinformer, spelmancollege, alumna,...\n",
       "4              [i’m, unemployed, live, parents, moops]\n",
       "Name: description, dtype: object"
      ]
     },
     "execution_count": 12,
     "metadata": {},
     "output_type": "execute_result"
    }
   ],
   "source": [
    "# create your clean twitter data here\n",
    "# create a function to clean data\n",
    "def clean_data(text):\n",
    "    if isinstance(text, str):\n",
    "        new_text = ''.join(char for char in text if char not in punctuation) # getting rid of punctuation\n",
    "        \n",
    "        # fold to lowercase and split on whitespace\n",
    "        tokens = new_text.lower().split()\n",
    "        \n",
    "        # remove stopwords\n",
    "        cleaned_tokens = [token for token in tokens if token not in sw]\n",
    "        \n",
    "        return cleaned_tokens\n",
    "    else:\n",
    "        return(text)\n",
    "\n",
    "\n",
    "# apply to each cell of the dataframe for cher\n",
    "new_cher_df = cher_df['description'].apply(clean_data)\n",
    "new_cher_df.head(5)"
   ]
  },
  {
   "cell_type": "code",
   "execution_count": 13,
   "id": "d4664f41",
   "metadata": {},
   "outputs": [
    {
     "data": {
      "text/plain": [
       "0    [love, chill, •facebook, instagram, soundcloud...\n",
       "1    [books, movies, music, nature, tv, shows, og, ...\n",
       "2    [amauteur, en, herbe, 🌱, juriste, en, paille, ...\n",
       "3    [twitter, profile, full, sarcasm, rants, occas...\n",
       "4    [flora, youssef, blogger, founder, posting, re...\n",
       "Name: description, dtype: object"
      ]
     },
     "execution_count": 13,
     "metadata": {},
     "output_type": "execute_result"
    }
   ],
   "source": [
    "# apply to each cell of the dataframe for robyn\n",
    "new_robyn_df = robyn_df['description'].apply(clean_data)\n",
    "new_robyn_df.head(5)"
   ]
  },
  {
   "cell_type": "code",
   "execution_count": 14,
   "id": "e0f22e10",
   "metadata": {},
   "outputs": [],
   "source": [
    "# create your clean lyrics data here\n",
    "# creating a new df\n",
    "lyrics_df = df\n",
    "\n",
    "# splitting based on artist for lyrics\n",
    "dualipa_lyrics_df = df[df['Filename'].str.contains('dualipa', case = False)].reset_index()\n",
    "hozier_lyrics_df = df[df['Filename'].str.contains('hozier', case = False)].reset_index()\n",
    "\n",
    "# cleaning the data\n",
    "new_dualipa_lyrics = dualipa_lyrics_df['File Content'].apply(clean_data)\n",
    "new_hozier_lyrics = hozier_lyrics_df['File Content'].apply(clean_data)"
   ]
  },
  {
   "cell_type": "code",
   "execution_count": 15,
   "id": "813590a6",
   "metadata": {},
   "outputs": [
    {
     "data": {
      "text/plain": [
       "0    [bad, together, lyrics, dua, lipa, lyrics, bad...\n",
       "1    [begging, lyrics, dua, lipa, lyrics, begging, ...\n",
       "2    [one, lyrics, dua, lipa, lyrics, one, see, moo...\n",
       "3    [blow, mind, mwah, lyrics, dua, lipa, lyrics, ...\n",
       "4    [dreams, lyrics, dua, lipa, lyrics, dreams, la...\n",
       "Name: File Content, dtype: object"
      ]
     },
     "execution_count": 15,
     "metadata": {},
     "output_type": "execute_result"
    }
   ],
   "source": [
    "new_dualipa_lyrics.head(5)"
   ]
  },
  {
   "cell_type": "markdown",
   "id": "f2dd0179",
   "metadata": {},
   "source": [
    "## Basic Descriptive Statistics\n",
    "\n",
    "Call your `descriptive_stats` function on both your lyrics data and your twitter data and for both artists (four total calls). "
   ]
  },
  {
   "cell_type": "markdown",
   "id": "581046a3",
   "metadata": {},
   "source": [
    "I had to rewrite the descriptive_stats function in order to read in the nested list of words."
   ]
  },
  {
   "cell_type": "code",
   "execution_count": 16,
   "id": "2f466766",
   "metadata": {},
   "outputs": [],
   "source": [
    "def new_descriptive_stats(tokens, num_tokens = 5 , verbose=True) :\n",
    "    \"\"\"\n",
    "        Given a list of tokens, print number of tokens, number of unique tokens, \n",
    "        number of characters, lexical diversity (https://en.wikipedia.org/wiki/Lexical_diversity), \n",
    "        and num_tokens most common tokens. Return a list with the number of tokens, number\n",
    "        of unique tokens, lexical diversity, and number of characters. \n",
    "    \n",
    "    \"\"\"\n",
    "\n",
    "    # Fill in the correct values here. \n",
    "    flat_tokens = [token for sublist in tokens if isinstance(sublist, list) for token in sublist if not isinstance(token, float)]\n",
    "    total_tokens = len(flat_tokens)  # total number of tokens\n",
    "    num_tokens = len(flat_tokens) # number of tokens\n",
    "    num_unique_tokens = len(set(flat_tokens)) # number of unique tokens\n",
    "    lexical_diversity = num_unique_tokens/num_tokens  # lexical diversity\n",
    "    num_characters = sum(len(token) for token in flat_tokens) # number of characters\n",
    "    most_common_tokens = Counter(flat_tokens).most_common(num_tokens)[0:5] # most common tokens\n",
    "   \n",
    "    \n",
    "    if verbose :        \n",
    "        print(f\"There are {num_tokens} tokens in the data.\")\n",
    "        print(f\"There are {num_unique_tokens} unique tokens in the data.\")\n",
    "        print(f\"There are {num_characters} characters in the data.\")\n",
    "        print(f\"The lexical diversity is {lexical_diversity:.3f} in the data.\")\n",
    "        \n",
    "    print(f\"The five most common tokens are {most_common_tokens} in the data.\")      \n",
    "    \n",
    "    return([num_tokens, num_unique_tokens,\n",
    "            lexical_diversity,\n",
    "            num_characters])\n",
    "    "
   ]
  },
  {
   "cell_type": "code",
   "execution_count": 17,
   "id": "f0bbedd9",
   "metadata": {},
   "outputs": [
    {
     "name": "stdout",
     "output_type": "stream",
     "text": [
      "There are 3659 tokens in the data.\n",
      "There are 644 unique tokens in the data.\n",
      "There are 16863 characters in the data.\n",
      "The lexical diversity is 0.176 in the data.\n",
      "The five most common tokens are [('dont', 99), ('love', 88), ('im', 81), ('know', 79), ('like', 61)] in the data.\n",
      "There are 2957 tokens in the data.\n",
      "There are 942 unique tokens in the data.\n",
      "There are 14867 characters in the data.\n",
      "The lexical diversity is 0.319 in the data.\n",
      "The five most common tokens are [('power', 51), ('love', 48), ('little', 41), ('lyrics', 40), ('oh', 33)] in the data.\n",
      "There are 15670504 tokens in the data.\n",
      "There are 1517718 unique tokens in the data.\n",
      "There are 92951718 characters in the data.\n",
      "The lexical diversity is 0.097 in the data.\n",
      "The five most common tokens are [('love', 214576), ('im', 139098), ('life', 122980), ('music', 88177), ('de', 72974)] in the data.\n",
      "There are 1538163 tokens in the data.\n",
      "There are 271325 unique tokens in the data.\n",
      "There are 9397180 characters in the data.\n",
      "The lexical diversity is 0.176 in the data.\n",
      "The five most common tokens are [('music', 15160), ('love', 11683), ('im', 9052), ('och', 7922), ('life', 7387)] in the data.\n"
     ]
    },
    {
     "data": {
      "text/plain": [
       "[1538163, 271325, 0.1763954795428053, 9397180]"
      ]
     },
     "execution_count": 17,
     "metadata": {},
     "output_type": "execute_result"
    }
   ],
   "source": [
    "# calls to descriptive_stats here\n",
    "\n",
    "new_descriptive_stats(new_dualipa_lyrics)\n",
    "new_descriptive_stats(new_hozier_lyrics)\n",
    "new_descriptive_stats(new_cher_df)\n",
    "new_descriptive_stats(new_robyn_df)"
   ]
  },
  {
   "cell_type": "markdown",
   "id": "46294409",
   "metadata": {},
   "source": [
    "Q: How do you think the \"top 5 words\" would be different if we left stopwords in the data? \n",
    "\n",
    "A: The stopwords would probably dominate the \"top 5 words\" list. This would also mean we wouldn't have gotten meaningful insights on the actual top lyrics since stop words aren't necessarily content words.\n",
    "\n",
    "---\n",
    "\n",
    "Q: What were your prior beliefs about the lexical diversity between the artists? Does the difference (or lack thereof) in lexical diversity between the artists conform to your prior beliefs? \n",
    "\n",
    "A: For context, the first 2 outputs are for the lyrics and the last two outputs are for the twitter posts. I thought the lyrics would contain less lexical diversity than the twitter posts. However, it seems like the twitter posts have less diversity than the lyrics. That's surprising since there are more people contributing to twitter posts than the lyrics, as there is only one artist linked to them.\n"
   ]
  },
  {
   "cell_type": "markdown",
   "id": "4d4e1ac1",
   "metadata": {},
   "source": [
    "\n",
    "## Specialty Statistics\n",
    "\n",
    "The descriptive statistics we have calculated are quite generic. You will now calculate a handful of statistics tailored to these data.\n",
    "\n",
    "1. Ten most common emojis by artist in the twitter descriptions.\n",
    "1. Ten most common hashtags by artist in the twitter descriptions.\n",
    "1. Five most common words in song titles by artist. \n",
    "1. For each artist, a histogram of song lengths (in terms of number of tokens) \n",
    "\n",
    "We can use the `emoji` library to help us identify emojis and you have been given a function to help you.\n"
   ]
  },
  {
   "cell_type": "code",
   "execution_count": 18,
   "id": "753a5a3e",
   "metadata": {},
   "outputs": [],
   "source": [
    "assert(emoji.is_emoji(\"❤️\"))\n",
    "assert(not emoji.is_emoji(\":-)\"))"
   ]
  },
  {
   "cell_type": "markdown",
   "id": "986fc4c0",
   "metadata": {},
   "source": [
    "### Emojis 😁\n",
    "\n",
    "What are the ten most common emojis by artist in the twitter descriptions? \n"
   ]
  },
  {
   "cell_type": "code",
   "execution_count": 19,
   "id": "bcbeb70d",
   "metadata": {},
   "outputs": [],
   "source": [
    "# gotta make everything a str, not list\n",
    "def list_to_str(cell):\n",
    "    if isinstance(cell, float):\n",
    "        return ''\n",
    "    cell = [item for item in cell if not isinstance(item, float)] # filtering out float values\n",
    "    return ''.join(map(str,cell))\n",
    "\n",
    "# create a function to extract emojis from text\n",
    "def extract_emojis(text):\n",
    "    demojized_text = emoji.demojize(text)\n",
    "    return re.findall(r':[a-zA-Z_0-9]+:', demojized_text) # matching on regular expression to get the entirety of the emoji out\n"
   ]
  },
  {
   "cell_type": "code",
   "execution_count": 20,
   "id": "b3016b20",
   "metadata": {},
   "outputs": [
    {
     "name": "stdout",
     "output_type": "stream",
     "text": [
      "{':red_heart:': 76843, ':heart_suit:': 33883, ':rainbow_flag:': 30347, ':sparkles:': 29250, ':blue_heart:': 21143, ':water_wave:': 20083, ':rainbow:': 16699, ':purple_heart:': 16388, ':United_States:': 14539, ':victory_hand:': 11797}\n"
     ]
    }
   ],
   "source": [
    "# cher tweets\n",
    "# changing the pandas dataframe variable to a str\n",
    "cher_emos = new_cher_df.apply(list_to_str)\n",
    "new_cher_emos = cher_emos.apply(extract_emojis)\n",
    "\n",
    "# flatten the list of emojis\n",
    "emojis_flat = [emoji for sublist in new_cher_emos for emoji in sublist]\n",
    "\n",
    "# count the emojis\n",
    "emoji_counts = Counter(emojis_flat)\n",
    "\n",
    "# find the ten most common emojis\n",
    "top_cher_emojis = dict(emoji_counts.most_common(10))\n",
    "\n",
    "print(top_cher_emojis)\n"
   ]
  },
  {
   "cell_type": "code",
   "execution_count": 21,
   "id": "1d0f0b26",
   "metadata": {},
   "outputs": [
    {
     "name": "stdout",
     "output_type": "stream",
     "text": [
      "{':red_heart:': 4645, ':rainbow_flag:': 3253, ':heart_suit:': 3113, ':sparkles:': 2224, ':rainbow:': 1408, ':blue_heart:': 806, ':victory_hand:': 791, ':purple_heart:': 735, ':musical_notes:': 698, ':black_heart:': 611}\n"
     ]
    }
   ],
   "source": [
    "# robyn tweets\n",
    "# changing the pandas dataframe variable to a str\n",
    "robyn_emos = new_robyn_df.apply(list_to_str)\n",
    "new_robyn_emos = robyn_emos.apply(extract_emojis)\n",
    "\n",
    "# flatten the list of emojis\n",
    "emojis_flat = [emoji for sublist in new_robyn_emos for emoji in sublist]\n",
    "\n",
    "# count the emojis\n",
    "emoji_counts = Counter(emojis_flat)\n",
    "\n",
    "# find the ten most common emojis\n",
    "top_robyn_emojis = dict(emoji_counts.most_common(10))\n",
    "\n",
    "print(top_robyn_emojis)"
   ]
  },
  {
   "cell_type": "markdown",
   "id": "bab9b770",
   "metadata": {},
   "source": [
    "### Hashtags\n",
    "\n",
    "What are the ten most common hashtags by artist in the twitter descriptions? \n"
   ]
  },
  {
   "cell_type": "code",
   "execution_count": 22,
   "id": "eea76ad3",
   "metadata": {},
   "outputs": [],
   "source": [
    "# create a function to semi-clean data\n",
    "# the function before removed all punctuations, including hashtags\n",
    "# we want them back in \n",
    "\n",
    "# clean the raw data again except for punctuation\n",
    "def semi_clean_data(text):\n",
    "    if isinstance(text, str):\n",
    "        \n",
    "        # fold to lowercase and split on whitespace\n",
    "        tokens = text.lower().split()\n",
    "        \n",
    "        # remove stopwords\n",
    "        cleaned_tokens = [token for token in tokens if token not in sw]\n",
    "        \n",
    "        return cleaned_tokens\n",
    "    else:\n",
    "        return(text)\n",
    "    \n",
    "# find the all the hashtags\n",
    "def common_hashtags(texts):\n",
    "    \n",
    "    hashtags_count = Counter()\n",
    "    \n",
    "    for text in texts:\n",
    "        hashtags = re.findall(r'#\\w+\\s*\\w*', text)\n",
    "        if hashtags:\n",
    "            hashtags_count.update(hashtags)\n",
    "    \n",
    "    return hashtags_count\n",
    "\n",
    "# count the hashtags that are the same in the counter\n",
    "\n",
    "def count_hashtags(hashtags_counters):\n",
    "    hashtag_counts = defaultdict(int)\n",
    "    for counter in hashtags_counters:\n",
    "        for hashtag, count in counter.items():\n",
    "            hashtag_counts[hashtag] += count\n",
    "    return dict(hashtag_counts)\n",
    "\n",
    "# gotta change the panda series to strings\n",
    "\n",
    "def list_to_str(cell):\n",
    "    if isinstance(cell, float):\n",
    "        return ''\n",
    "    cell = [item for item in cell if not isinstance(item, float)] # filtering out float values\n",
    "    return ''.join(map(str,cell))"
   ]
  },
  {
   "cell_type": "code",
   "execution_count": 23,
   "id": "52aad116",
   "metadata": {},
   "outputs": [],
   "source": [
    "cherhash_data = cher_df['description'].apply(semi_clean_data)\n",
    "robynhash_data = robyn_df['description'].apply(semi_clean_data)"
   ]
  },
  {
   "cell_type": "code",
   "execution_count": 24,
   "id": "3460e9eb",
   "metadata": {},
   "outputs": [
    {
     "data": {
      "text/plain": [
       "0     [𝙿𝚛𝚘𝚞𝚍, 𝚜𝚞𝚙𝚙𝚘𝚛𝚝𝚎𝚛, 𝚘𝚏, 𝚖𝚎𝚜𝚜𝚢, 𝚋𝚞𝚗𝚜, &, 𝚕𝚎𝚐𝚐𝚒𝚗𝚐𝚜]\n",
       "1        [163㎝／愛かっぷ💜26歳🍒, 工〇好きな女の子💓, フォローしてくれたらdmします🧡]\n",
       "2                                                [csu]\n",
       "3    [writer, @washinformer, @spelmancollege, alumn...\n",
       "4            [i’m, unemployed, live, parents., moops!]\n",
       "Name: description, dtype: object"
      ]
     },
     "execution_count": 24,
     "metadata": {},
     "output_type": "execute_result"
    }
   ],
   "source": [
    "cherhash_data.head()"
   ]
  },
  {
   "cell_type": "code",
   "execution_count": 25,
   "id": "07c396f1",
   "metadata": {
    "scrolled": true
   },
   "outputs": [
    {
     "name": "stdout",
     "output_type": "stream",
     "text": [
      "\n",
      "Ten most common hashtags by Cher Followers:\n",
      "[('#resist', 10720), ('#blm', 9598), ('#blacklivesmatter', 7374), ('#theresistance', 3260), ('#fbr', 3096), ('#resistance', 2763), ('#voteblue', 2169), ('#lgbtq', 1763), ('#music', 1402), ('#bluewave', 1399)]\n"
     ]
    }
   ],
   "source": [
    "# getting the cher hashtags\n",
    "cherhash_data= cherhash_data.apply(list_to_str)\n",
    "cher_hashtags = cherhash_data.apply(lambda x: common_hashtags([x]))\n",
    "total_hashtags = count_hashtags(cher_hashtags)\n",
    "\n",
    "top_10_cher = sorted(total_hashtags.items(), key=lambda x: x[1], reverse=True)\n",
    "top_10_cher = top_10_cher[:10]\n",
    "print(\"\\nTen most common hashtags by Cher Followers:\")\n",
    "print(top_10_cher)"
   ]
  },
  {
   "cell_type": "code",
   "execution_count": 26,
   "id": "01b83ae6",
   "metadata": {},
   "outputs": [
    {
     "name": "stdout",
     "output_type": "stream",
     "text": [
      "\n",
      "Ten most common hashtags by Robyn Followers:\n",
      "[('#blacklivesmatter', 530), ('#blm', 327), ('#music', 268), ('#teamfollowback', 123), ('#edm', 84), ('#resist', 80), ('#lgbtq', 75), ('#travel', 67), ('#art', 65), ('#freebritney', 61)]\n"
     ]
    }
   ],
   "source": [
    "# getting the robyn hashtags\n",
    "robynhash_data= robynhash_data.apply(list_to_str)\n",
    "robyn_hashtags = robynhash_data.apply(lambda x: common_hashtags([x]))\n",
    "total_hashtags = count_hashtags(robyn_hashtags)\n",
    "\n",
    "top_10_robyn = sorted(total_hashtags.items(), key=lambda x: x[1], reverse=True)\n",
    "top_10_robyn = top_10_robyn[:10]\n",
    "print(\"\\nTen most common hashtags by Robyn Followers:\")\n",
    "print(top_10_robyn)"
   ]
  },
  {
   "cell_type": "markdown",
   "id": "d10f21d5",
   "metadata": {},
   "source": [
    "### Song Titles\n",
    "\n",
    "What are the five most common words in song titles by artist? The song titles should be on the first line of the lyrics pages, so if you have kept the raw file contents around, you will not need to re-read the data.\n"
   ]
  },
  {
   "cell_type": "code",
   "execution_count": 27,
   "id": "bb69b36b",
   "metadata": {},
   "outputs": [
    {
     "name": "stdout",
     "output_type": "stream",
     "text": [
      "The five most common words in song titles by dualipa are:\n",
      "{'new': 3, 'acoustic': 2, 'live': 2, 'rules': 2, 'bad': 1}\n",
      "The five most common words in song titles by hozier are\n",
      "{'angel': 1, 'small': 1, 'death': 1, 'codeine': 1, 'scene': 1}\n"
     ]
    }
   ],
   "source": [
    "# function to extract content within the first pair of quotes\n",
    "def extract_content(text):\n",
    "    match = re.search(r'\"([^\"]*)\"', text)\n",
    "    if match:\n",
    "        return match.group(1)\n",
    "    else:\n",
    "        return None\n",
    "\n",
    "# apply extract_content to the \"File Content\" column\n",
    "dualipa_titles = dualipa_lyrics_df['File Content'].apply(extract_content)\n",
    "hozier_titles = hozier_lyrics_df['File Content'].apply(extract_content)\n",
    "\n",
    "#clean and tokenize data for dualipa\n",
    "dualipa_clean = dualipa_titles.apply(clean_data)\n",
    "\n",
    "# flatten the list of title words\n",
    "titles_flat = [word for sublist in dualipa_clean for word in sublist]\n",
    "\n",
    "# count the emojis\n",
    "title_word_counts = Counter(titles_flat)\n",
    "\n",
    "# find the ten most common emojis\n",
    "top_dualipa_words = dict(title_word_counts.most_common(5))\n",
    "\n",
    "print(\"The five most common words in song titles by dualipa are:\")\n",
    "print(top_dualipa_words)\n",
    "\n",
    "#clean and tokenize data for hozier\n",
    "hozier_clean = hozier_titles.apply(clean_data)\n",
    "\n",
    "# flatten the list of title words\n",
    "titles_flat = [word for sublist in hozier_clean for word in sublist]\n",
    "\n",
    "# count the emojis\n",
    "title_word_counts = Counter(titles_flat)\n",
    "\n",
    "# find the ten most common emojis\n",
    "top_hozier_words = dict(title_word_counts.most_common(5))\n",
    "\n",
    "print(\"The five most common words in song titles by hozier are\")\n",
    "print(top_hozier_words)"
   ]
  },
  {
   "cell_type": "markdown",
   "id": "5dd4fd71",
   "metadata": {},
   "source": [
    "### Song Lengths\n",
    "\n",
    "For each artist, a histogram of song lengths (in terms of number of tokens). If you put the song lengths in a data frame with an artist column, matplotlib will make the plotting quite easy. An example is given to help you out. \n"
   ]
  },
  {
   "cell_type": "code",
   "execution_count": 28,
   "id": "805a1e52",
   "metadata": {},
   "outputs": [
    {
     "data": {
      "text/plain": [
       "artist\n",
       "Artist 1    AxesSubplot(0.125,0.125;0.775x0.755)\n",
       "Artist 2    AxesSubplot(0.125,0.125;0.775x0.755)\n",
       "Name: length, dtype: object"
      ]
     },
     "execution_count": 28,
     "metadata": {},
     "output_type": "execute_result"
    },
    {
     "data": {
      "image/png": "[encoded data removed]",
      "text/plain": [
       "<Figure size 432x288 with 1 Axes>"
      ]
     },
     "metadata": {
      "needs_background": "light"
     },
     "output_type": "display_data"
    }
   ],
   "source": [
    "num_replicates = 1000\n",
    "\n",
    "df = pd.DataFrame({\n",
    "    \"artist\" : ['Artist 1'] * num_replicates + ['Artist 2']*num_replicates,\n",
    "    \"length\" : np.concatenate((np.random.poisson(125,num_replicates),np.random.poisson(150,num_replicates)))\n",
    "})\n",
    "\n",
    "df.groupby('artist')['length'].plot(kind=\"hist\",density=True,alpha=0.5,legend=True)"
   ]
  },
  {
   "cell_type": "markdown",
   "id": "8fde9ebb",
   "metadata": {},
   "source": [
    "Since the lyrics may be stored with carriage returns or tabs, it may be useful to have a function that can collapse whitespace, using regular expressions, and be used for splitting. \n",
    "\n",
    "Q: What does the regular expression `'\\s+'` match on? \n",
    "\n",
    "A: That regular expression matches the string with one or more whitespace.\n"
   ]
  },
  {
   "cell_type": "code",
   "execution_count": 29,
   "id": "f0e34516",
   "metadata": {},
   "outputs": [],
   "source": [
    "collapse_whitespace = re.compile(r'\\s+')\n",
    "\n",
    "def tokenize_lyrics(lyric) : \n",
    "    \"\"\"strip and split on whitespace\"\"\"\n",
    "    return([item.lower() for item in collapse_whitespace.split(lyric)])"
   ]
  },
  {
   "cell_type": "code",
   "execution_count": 30,
   "id": "2294c440",
   "metadata": {},
   "outputs": [],
   "source": [
    "# Your lyric length comparison chart here. \n",
    "new_dualipa = pd.DataFrame()\n",
    "\n",
    "# Repeat \"dualipa\" 20 times and assign it to a new column\n",
    "new_dualipa['Artist'] = pd.Series(['dualipa'] * 20)\n",
    "\n",
    "# tokzenizing the lyrics and storing it\n",
    "new_dualipa['Tokenized'] = dualipa_lyrics_df['File Content'].apply(tokenize_lyrics)\n",
    "\n",
    "# count the lyrics and store it\n",
    "new_dualipa['Tokenized Count'] = new_dualipa['Tokenized'].apply(len)\n",
    "\n",
    "# new df for hozier\n",
    "new_hozier = pd.DataFrame()\n",
    "\n",
    "# Repeat \"dualipa\" 20 times and assign it to a new column\n",
    "new_hozier['Artist'] = pd.Series(['hozier'] * 20)\n",
    "\n",
    "# tokzenizing the lyrics and storing it\n",
    "new_hozier['Tokenized'] = hozier_lyrics_df['File Content'].apply(tokenize_lyrics)\n",
    "\n",
    "# count the lyrics and store it\n",
    "new_hozier['Tokenized Count'] = new_hozier['Tokenized'].apply(len)"
   ]
  },
  {
   "cell_type": "code",
   "execution_count": 31,
   "id": "6787f3ed",
   "metadata": {},
   "outputs": [],
   "source": [
    "combined_df = pd.concat([new_dualipa,new_hozier], ignore_index = True)\n",
    "combined_df = combined_df.rename(columns = {'Tokenized Count':'Length'})"
   ]
  },
  {
   "cell_type": "code",
   "execution_count": 32,
   "id": "6440b37d",
   "metadata": {},
   "outputs": [
    {
     "data": {
      "text/plain": [
       "Text(0.5, 1.0, 'Histogram of song lengths by artist')"
      ]
     },
     "execution_count": 32,
     "metadata": {},
     "output_type": "execute_result"
    },
    {
     "data": {
      "image/png": "[encoded data removed]",
      "text/plain": [
       "<Figure size 432x288 with 1 Axes>"
      ]
     },
     "metadata": {
      "needs_background": "light"
     },
     "output_type": "display_data"
    }
   ],
   "source": [
    "combined_df.groupby('Artist')['Length'].plot(kind=\"hist\",density=True,alpha=0.5,legend=True)\n",
    "plt.title('Histogram of song lengths by artist')"
   ]
  }
 ],
 "metadata": {
  "kernelspec": {
   "display_name": "Python 3 (ipykernel)",
   "language": "python",
   "name": "python3"
  },
  "language_info": {
   "codemirror_mode": {
    "name": "ipython",
    "version": 3
   },
   "file_extension": ".py",
   "mimetype": "text/x-python",
   "name": "python",
   "nbconvert_exporter": "python",
   "pygments_lexer": "ipython3",
   "version": "3.9.12"
  }
 },
 "nbformat": 4,
 "nbformat_minor": 5
}
